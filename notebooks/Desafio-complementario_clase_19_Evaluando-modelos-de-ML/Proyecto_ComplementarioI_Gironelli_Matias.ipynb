{
  "nbformat": 4,
  "nbformat_minor": 0,
  "metadata": {
    "colab": {
      "provenance": []
    },
    "kernelspec": {
      "name": "python3",
      "display_name": "Python 3"
    },
    "language_info": {
      "name": "python"
    }
  },
  "cells": [
    {
      "cell_type": "code",
      "execution_count": null,
      "metadata": {
        "id": "UahlZK3AfTuz"
      },
      "outputs": [],
      "source": [
        "import pandas as pd\n",
        "import seaborn as sns"
      ]
    },
    {
      "cell_type": "code",
      "source": [
        "#Cargar el Dataset\n",
        "from google.colab import drive\n",
        "import os\n",
        "drive.mount('/content/gdrive/')"
      ],
      "metadata": {
        "colab": {
          "base_uri": "https://localhost:8080/"
        },
        "id": "D0tPOeb8lPkf",
        "outputId": "d10debdc-ae23-46f5-edad-4fa3e6e0c035"
      },
      "execution_count": null,
      "outputs": [
        {
          "output_type": "stream",
          "name": "stdout",
          "text": [
            "Mounted at /content/gdrive/\n"
          ]
        }
      ]
    },
    {
      "cell_type": "code",
      "source": [
        "#Leer el Dataset\n",
        "%cd '/content/gdrive/MyDrive/CoderHouse/Data_Science'\n",
        "creditcard = pd.read_csv('fraud_cut.csv')"
      ],
      "metadata": {
        "colab": {
          "base_uri": "https://localhost:8080/"
        },
        "id": "2-tEODHhlTwq",
        "outputId": "2aaf31b8-9466-488b-b08f-178d4a797524"
      },
      "execution_count": null,
      "outputs": [
        {
          "output_type": "stream",
          "name": "stdout",
          "text": [
            "/content/gdrive/MyDrive/CoderHouse/Data_Science\n"
          ]
        }
      ]
    },
    {
      "cell_type": "code",
      "source": [
        "creditcard.head()"
      ],
      "metadata": {
        "colab": {
          "base_uri": "https://localhost:8080/",
          "height": 525
        },
        "id": "KcF0r0vglcT8",
        "outputId": "366f81cb-00f2-46cc-aaa6-1e72fa0338f7"
      },
      "execution_count": null,
      "outputs": [
        {
          "output_type": "execute_result",
          "data": {
            "text/plain": [
              "   Unnamed: 0 trans_date_trans_time        cc_num  \\\n",
              "0           0       6/21/2020 12:14  2.291160e+15   \n",
              "1           1       6/21/2020 12:14  3.573030e+15   \n",
              "2           2       6/21/2020 12:14  3.598220e+15   \n",
              "3           3       6/21/2020 12:15  3.591920e+15   \n",
              "4           4       6/21/2020 12:15  3.526830e+15   \n",
              "\n",
              "                               merchant        category    amt   first  \\\n",
              "0                 fraud_Kirlin and Sons   personal_care   2.86    Jeff   \n",
              "1                  fraud_Sporer-Keebler   personal_care  29.84  Joanne   \n",
              "2  fraud_Swaniawski, Nitzsche and Welch  health_fitness  41.28  Ashley   \n",
              "3                     fraud_Haley Group        misc_pos  60.05   Brian   \n",
              "4                 fraud_Johnston-Casper          travel   3.19  Nathan   \n",
              "\n",
              "       last gender                       street  ...      lat      long  \\\n",
              "0   Elliott      M            351 Darlene Green  ...  33.9659  -80.9355   \n",
              "1  Williams      F             3638 Marsh Union  ...  40.3207 -110.4360   \n",
              "2     Lopez      F         9333 Valentine Point  ...  40.6729  -73.5365   \n",
              "3  Williams      M  32941 Krystal Mill Apt. 552  ...  28.5697  -80.8191   \n",
              "4    Massey      M     5783 Evan Roads Apt. 465  ...  44.2529  -85.0170   \n",
              "\n",
              "   city_pop                     job         dob  \\\n",
              "0    333497     Mechanical engineer   3/19/1968   \n",
              "1       302  Sales professional, IT   1/17/1990   \n",
              "2     34496       Librarian, public  10/21/1970   \n",
              "3     54767            Set designer   7/25/1987   \n",
              "4      1126      Furniture designer    7/6/1955   \n",
              "\n",
              "                          trans_num   unix_time  merch_lat  merch_long  \\\n",
              "0  2da90c7d74bd46a0caf3777415b3ebd3  1371816865  33.986391  -81.200714   \n",
              "1  324cc204407e99f51b0d6ca0055005e7  1371816873  39.450498 -109.960431   \n",
              "2  c81755dbbbea9d5c77f094348a7579be  1371816893  40.495810  -74.196111   \n",
              "3  2159175b9efe66dc301f149d3d5abf8c  1371816915  28.812398  -80.883061   \n",
              "4  57ff021bd3f328f8738bb535c302a31b  1371816917  44.959148  -85.884734   \n",
              "\n",
              "   is_fraud  \n",
              "0         0  \n",
              "1         0  \n",
              "2         0  \n",
              "3         0  \n",
              "4         0  \n",
              "\n",
              "[5 rows x 23 columns]"
            ],
            "text/html": [
              "\n",
              "  <div id=\"df-9603abc6-312d-4a9e-8d91-5289416e8da3\">\n",
              "    <div class=\"colab-df-container\">\n",
              "      <div>\n",
              "<style scoped>\n",
              "    .dataframe tbody tr th:only-of-type {\n",
              "        vertical-align: middle;\n",
              "    }\n",
              "\n",
              "    .dataframe tbody tr th {\n",
              "        vertical-align: top;\n",
              "    }\n",
              "\n",
              "    .dataframe thead th {\n",
              "        text-align: right;\n",
              "    }\n",
              "</style>\n",
              "<table border=\"1\" class=\"dataframe\">\n",
              "  <thead>\n",
              "    <tr style=\"text-align: right;\">\n",
              "      <th></th>\n",
              "      <th>Unnamed: 0</th>\n",
              "      <th>trans_date_trans_time</th>\n",
              "      <th>cc_num</th>\n",
              "      <th>merchant</th>\n",
              "      <th>category</th>\n",
              "      <th>amt</th>\n",
              "      <th>first</th>\n",
              "      <th>last</th>\n",
              "      <th>gender</th>\n",
              "      <th>street</th>\n",
              "      <th>...</th>\n",
              "      <th>lat</th>\n",
              "      <th>long</th>\n",
              "      <th>city_pop</th>\n",
              "      <th>job</th>\n",
              "      <th>dob</th>\n",
              "      <th>trans_num</th>\n",
              "      <th>unix_time</th>\n",
              "      <th>merch_lat</th>\n",
              "      <th>merch_long</th>\n",
              "      <th>is_fraud</th>\n",
              "    </tr>\n",
              "  </thead>\n",
              "  <tbody>\n",
              "    <tr>\n",
              "      <th>0</th>\n",
              "      <td>0</td>\n",
              "      <td>6/21/2020 12:14</td>\n",
              "      <td>2.291160e+15</td>\n",
              "      <td>fraud_Kirlin and Sons</td>\n",
              "      <td>personal_care</td>\n",
              "      <td>2.86</td>\n",
              "      <td>Jeff</td>\n",
              "      <td>Elliott</td>\n",
              "      <td>M</td>\n",
              "      <td>351 Darlene Green</td>\n",
              "      <td>...</td>\n",
              "      <td>33.9659</td>\n",
              "      <td>-80.9355</td>\n",
              "      <td>333497</td>\n",
              "      <td>Mechanical engineer</td>\n",
              "      <td>3/19/1968</td>\n",
              "      <td>2da90c7d74bd46a0caf3777415b3ebd3</td>\n",
              "      <td>1371816865</td>\n",
              "      <td>33.986391</td>\n",
              "      <td>-81.200714</td>\n",
              "      <td>0</td>\n",
              "    </tr>\n",
              "    <tr>\n",
              "      <th>1</th>\n",
              "      <td>1</td>\n",
              "      <td>6/21/2020 12:14</td>\n",
              "      <td>3.573030e+15</td>\n",
              "      <td>fraud_Sporer-Keebler</td>\n",
              "      <td>personal_care</td>\n",
              "      <td>29.84</td>\n",
              "      <td>Joanne</td>\n",
              "      <td>Williams</td>\n",
              "      <td>F</td>\n",
              "      <td>3638 Marsh Union</td>\n",
              "      <td>...</td>\n",
              "      <td>40.3207</td>\n",
              "      <td>-110.4360</td>\n",
              "      <td>302</td>\n",
              "      <td>Sales professional, IT</td>\n",
              "      <td>1/17/1990</td>\n",
              "      <td>324cc204407e99f51b0d6ca0055005e7</td>\n",
              "      <td>1371816873</td>\n",
              "      <td>39.450498</td>\n",
              "      <td>-109.960431</td>\n",
              "      <td>0</td>\n",
              "    </tr>\n",
              "    <tr>\n",
              "      <th>2</th>\n",
              "      <td>2</td>\n",
              "      <td>6/21/2020 12:14</td>\n",
              "      <td>3.598220e+15</td>\n",
              "      <td>fraud_Swaniawski, Nitzsche and Welch</td>\n",
              "      <td>health_fitness</td>\n",
              "      <td>41.28</td>\n",
              "      <td>Ashley</td>\n",
              "      <td>Lopez</td>\n",
              "      <td>F</td>\n",
              "      <td>9333 Valentine Point</td>\n",
              "      <td>...</td>\n",
              "      <td>40.6729</td>\n",
              "      <td>-73.5365</td>\n",
              "      <td>34496</td>\n",
              "      <td>Librarian, public</td>\n",
              "      <td>10/21/1970</td>\n",
              "      <td>c81755dbbbea9d5c77f094348a7579be</td>\n",
              "      <td>1371816893</td>\n",
              "      <td>40.495810</td>\n",
              "      <td>-74.196111</td>\n",
              "      <td>0</td>\n",
              "    </tr>\n",
              "    <tr>\n",
              "      <th>3</th>\n",
              "      <td>3</td>\n",
              "      <td>6/21/2020 12:15</td>\n",
              "      <td>3.591920e+15</td>\n",
              "      <td>fraud_Haley Group</td>\n",
              "      <td>misc_pos</td>\n",
              "      <td>60.05</td>\n",
              "      <td>Brian</td>\n",
              "      <td>Williams</td>\n",
              "      <td>M</td>\n",
              "      <td>32941 Krystal Mill Apt. 552</td>\n",
              "      <td>...</td>\n",
              "      <td>28.5697</td>\n",
              "      <td>-80.8191</td>\n",
              "      <td>54767</td>\n",
              "      <td>Set designer</td>\n",
              "      <td>7/25/1987</td>\n",
              "      <td>2159175b9efe66dc301f149d3d5abf8c</td>\n",
              "      <td>1371816915</td>\n",
              "      <td>28.812398</td>\n",
              "      <td>-80.883061</td>\n",
              "      <td>0</td>\n",
              "    </tr>\n",
              "    <tr>\n",
              "      <th>4</th>\n",
              "      <td>4</td>\n",
              "      <td>6/21/2020 12:15</td>\n",
              "      <td>3.526830e+15</td>\n",
              "      <td>fraud_Johnston-Casper</td>\n",
              "      <td>travel</td>\n",
              "      <td>3.19</td>\n",
              "      <td>Nathan</td>\n",
              "      <td>Massey</td>\n",
              "      <td>M</td>\n",
              "      <td>5783 Evan Roads Apt. 465</td>\n",
              "      <td>...</td>\n",
              "      <td>44.2529</td>\n",
              "      <td>-85.0170</td>\n",
              "      <td>1126</td>\n",
              "      <td>Furniture designer</td>\n",
              "      <td>7/6/1955</td>\n",
              "      <td>57ff021bd3f328f8738bb535c302a31b</td>\n",
              "      <td>1371816917</td>\n",
              "      <td>44.959148</td>\n",
              "      <td>-85.884734</td>\n",
              "      <td>0</td>\n",
              "    </tr>\n",
              "  </tbody>\n",
              "</table>\n",
              "<p>5 rows × 23 columns</p>\n",
              "</div>\n",
              "      <button class=\"colab-df-convert\" onclick=\"convertToInteractive('df-9603abc6-312d-4a9e-8d91-5289416e8da3')\"\n",
              "              title=\"Convert this dataframe to an interactive table.\"\n",
              "              style=\"display:none;\">\n",
              "        \n",
              "  <svg xmlns=\"http://www.w3.org/2000/svg\" height=\"24px\"viewBox=\"0 0 24 24\"\n",
              "       width=\"24px\">\n",
              "    <path d=\"M0 0h24v24H0V0z\" fill=\"none\"/>\n",
              "    <path d=\"M18.56 5.44l.94 2.06.94-2.06 2.06-.94-2.06-.94-.94-2.06-.94 2.06-2.06.94zm-11 1L8.5 8.5l.94-2.06 2.06-.94-2.06-.94L8.5 2.5l-.94 2.06-2.06.94zm10 10l.94 2.06.94-2.06 2.06-.94-2.06-.94-.94-2.06-.94 2.06-2.06.94z\"/><path d=\"M17.41 7.96l-1.37-1.37c-.4-.4-.92-.59-1.43-.59-.52 0-1.04.2-1.43.59L10.3 9.45l-7.72 7.72c-.78.78-.78 2.05 0 2.83L4 21.41c.39.39.9.59 1.41.59.51 0 1.02-.2 1.41-.59l7.78-7.78 2.81-2.81c.8-.78.8-2.07 0-2.86zM5.41 20L4 18.59l7.72-7.72 1.47 1.35L5.41 20z\"/>\n",
              "  </svg>\n",
              "      </button>\n",
              "      \n",
              "  <style>\n",
              "    .colab-df-container {\n",
              "      display:flex;\n",
              "      flex-wrap:wrap;\n",
              "      gap: 12px;\n",
              "    }\n",
              "\n",
              "    .colab-df-convert {\n",
              "      background-color: #E8F0FE;\n",
              "      border: none;\n",
              "      border-radius: 50%;\n",
              "      cursor: pointer;\n",
              "      display: none;\n",
              "      fill: #1967D2;\n",
              "      height: 32px;\n",
              "      padding: 0 0 0 0;\n",
              "      width: 32px;\n",
              "    }\n",
              "\n",
              "    .colab-df-convert:hover {\n",
              "      background-color: #E2EBFA;\n",
              "      box-shadow: 0px 1px 2px rgba(60, 64, 67, 0.3), 0px 1px 3px 1px rgba(60, 64, 67, 0.15);\n",
              "      fill: #174EA6;\n",
              "    }\n",
              "\n",
              "    [theme=dark] .colab-df-convert {\n",
              "      background-color: #3B4455;\n",
              "      fill: #D2E3FC;\n",
              "    }\n",
              "\n",
              "    [theme=dark] .colab-df-convert:hover {\n",
              "      background-color: #434B5C;\n",
              "      box-shadow: 0px 1px 3px 1px rgba(0, 0, 0, 0.15);\n",
              "      filter: drop-shadow(0px 1px 2px rgba(0, 0, 0, 0.3));\n",
              "      fill: #FFFFFF;\n",
              "    }\n",
              "  </style>\n",
              "\n",
              "      <script>\n",
              "        const buttonEl =\n",
              "          document.querySelector('#df-9603abc6-312d-4a9e-8d91-5289416e8da3 button.colab-df-convert');\n",
              "        buttonEl.style.display =\n",
              "          google.colab.kernel.accessAllowed ? 'block' : 'none';\n",
              "\n",
              "        async function convertToInteractive(key) {\n",
              "          const element = document.querySelector('#df-9603abc6-312d-4a9e-8d91-5289416e8da3');\n",
              "          const dataTable =\n",
              "            await google.colab.kernel.invokeFunction('convertToInteractive',\n",
              "                                                     [key], {});\n",
              "          if (!dataTable) return;\n",
              "\n",
              "          const docLinkHtml = 'Like what you see? Visit the ' +\n",
              "            '<a target=\"_blank\" href=https://colab.research.google.com/notebooks/data_table.ipynb>data table notebook</a>'\n",
              "            + ' to learn more about interactive tables.';\n",
              "          element.innerHTML = '';\n",
              "          dataTable['output_type'] = 'display_data';\n",
              "          await google.colab.output.renderOutput(dataTable, element);\n",
              "          const docLink = document.createElement('div');\n",
              "          docLink.innerHTML = docLinkHtml;\n",
              "          element.appendChild(docLink);\n",
              "        }\n",
              "      </script>\n",
              "    </div>\n",
              "  </div>\n",
              "  "
            ]
          },
          "metadata": {},
          "execution_count": 4
        }
      ]
    },
    {
      "cell_type": "code",
      "source": [
        "creditcard.shape"
      ],
      "metadata": {
        "colab": {
          "base_uri": "https://localhost:8080/"
        },
        "id": "kVE5vDCDksUl",
        "outputId": "d44f4d49-bd68-4aa8-cc36-84ba1dbfdba8"
      },
      "execution_count": null,
      "outputs": [
        {
          "output_type": "execute_result",
          "data": {
            "text/plain": [
              "(150001, 23)"
            ]
          },
          "metadata": {},
          "execution_count": 5
        }
      ]
    },
    {
      "cell_type": "code",
      "source": [
        "creditcard['trans_date_trans_time']=pd.to_datetime(creditcard['trans_date_trans_time'])\n",
        "creditcard['trans_date']=creditcard['trans_date_trans_time'].dt.strftime('%Y-%m-%d')\n",
        "creditcard['trans_date']=pd.to_datetime(creditcard['trans_date'])\n",
        "creditcard['dob']=pd.to_datetime(creditcard['dob'])\n",
        "creditcard[\"age\"] = creditcard[\"trans_date_trans_time\"]-creditcard[\"dob\"]\n",
        "creditcard[\"age\"]=creditcard[\"age\"].astype('timedelta64[Y]')\n",
        "creditcard['hour']=pd.to_datetime(creditcard['trans_date_trans_time']).dt.hour\n",
        "creditcard['day']=pd.to_datetime(creditcard['trans_date_trans_time']).dt.dayofweek\n",
        "creditcard['month']=pd.to_datetime(creditcard['trans_date_trans_time']).dt.month\n",
        "train=creditcard[['category','amt','zip','lat','long','city_pop','merch_lat','merch_long','age','hour','day','month','is_fraud']]\n",
        "train=train.reindex(columns=['category','amt','zip','lat','long','city_pop','merch_lat','merch_long','age','hour','day','month','is_fraud'])\n",
        "#train=pd.get_dummies(train, drop_first=True)"
      ],
      "metadata": {
        "id": "U8iWnqakt1eE"
      },
      "execution_count": null,
      "outputs": []
    },
    {
      "cell_type": "code",
      "source": [
        "train=pd.get_dummies(train, drop_first=True)\n",
        "y=train['is_fraud'].values\n",
        "X=train.drop(\"is_fraud\", axis='columns').values\n",
        "\n",
        "#X = train[['amt','zip','lat','long','city_pop','merch_lat','merch_long','age','hour','day','month','category']]\n",
        "#y = train.is_fraud\n",
        "\n",
        "from sklearn.model_selection import train_test_split\n",
        "\n",
        "\n",
        "X_train, X_test, y_train, y_test = train_test_split(X, y, test_size=.2, random_state=1)\n",
        "\n",
        "X_train"
      ],
      "metadata": {
        "colab": {
          "base_uri": "https://localhost:8080/"
        },
        "id": "faBt-zaHfuN2",
        "outputId": "81d54861-df18-42fb-ff70-9ea0b01d0da4"
      },
      "execution_count": null,
      "outputs": [
        {
          "output_type": "execute_result",
          "data": {
            "text/plain": [
              "array([[3.03300e+01, 4.04700e+03, 4.37450e+01, ..., 0.00000e+00,\n",
              "        1.00000e+00, 0.00000e+00],\n",
              "       [5.20600e+01, 6.14540e+04, 4.06761e+01, ..., 0.00000e+00,\n",
              "        0.00000e+00, 0.00000e+00],\n",
              "       [4.06400e+01, 7.75660e+04, 2.90393e+01, ..., 0.00000e+00,\n",
              "        0.00000e+00, 0.00000e+00],\n",
              "       ...,\n",
              "       [5.18200e+01, 3.57470e+04, 3.44959e+01, ..., 1.00000e+00,\n",
              "        0.00000e+00, 0.00000e+00],\n",
              "       [9.31000e+00, 7.75660e+04, 2.90393e+01, ..., 0.00000e+00,\n",
              "        1.00000e+00, 0.00000e+00],\n",
              "       [3.90000e+00, 7.56610e+04, 3.26205e+01, ..., 0.00000e+00,\n",
              "        0.00000e+00, 1.00000e+00]])"
            ]
          },
          "metadata": {},
          "execution_count": 7
        }
      ]
    },
    {
      "cell_type": "code",
      "source": [
        "X_test"
      ],
      "metadata": {
        "colab": {
          "base_uri": "https://localhost:8080/"
        },
        "id": "n1m_8hC4knCJ",
        "outputId": "dcce4958-c3d9-413d-c8f6-c0b8d08dd8be"
      },
      "execution_count": null,
      "outputs": [
        {
          "output_type": "execute_result",
          "data": {
            "text/plain": [
              "array([[5.50000e+01, 9.61030e+04, 3.98127e+01, ..., 0.00000e+00,\n",
              "        0.00000e+00, 0.00000e+00],\n",
              "       [1.60500e+01, 8.25140e+04, 4.30048e+01, ..., 0.00000e+00,\n",
              "        0.00000e+00, 0.00000e+00],\n",
              "       [7.81900e+01, 9.49710e+04, 3.82427e+01, ..., 0.00000e+00,\n",
              "        0.00000e+00, 0.00000e+00],\n",
              "       ...,\n",
              "       [3.78600e+01, 3.17710e+04, 3.12462e+01, ..., 0.00000e+00,\n",
              "        0.00000e+00, 0.00000e+00],\n",
              "       [2.21700e+01, 9.60380e+04, 4.16125e+01, ..., 0.00000e+00,\n",
              "        0.00000e+00, 0.00000e+00],\n",
              "       [2.87000e+00, 7.12910e+04, 3.25317e+01, ..., 0.00000e+00,\n",
              "        1.00000e+00, 0.00000e+00]])"
            ]
          },
          "metadata": {},
          "execution_count": 8
        }
      ]
    },
    {
      "cell_type": "code",
      "source": [
        "from sklearn.linear_model import LinearRegression\n",
        "from sklearn.metrics import r2_score, mean_absolute_error, mean_squared_error\n",
        "\n",
        "lr = LinearRegression()\n",
        "\n",
        "lr.fit(X_train,y_train)\n",
        "\n",
        "y_pred = lr.predict(X_test)\n",
        "\n",
        "print('R2', r2_score(y_test, y_pred))\n",
        "print('mae', mean_absolute_error(y_test, y_pred))\n",
        "print('mse', mean_squared_error(y_test, y_pred))\n",
        "print('rmse', (mean_squared_error(y_test, y_pred))**(1/2))"
      ],
      "metadata": {
        "colab": {
          "base_uri": "https://localhost:8080/"
        },
        "id": "f7-LDdLzkw22",
        "outputId": "625fc5d5-98d4-48d8-95df-fec9d26aec1e"
      },
      "execution_count": null,
      "outputs": [
        {
          "output_type": "stream",
          "name": "stdout",
          "text": [
            "R2 0.03774574718622559\n",
            "mae 0.010210987210572788\n",
            "mse 0.004374082009479483\n",
            "rmse 0.06613684305649524\n"
          ]
        }
      ]
    },
    {
      "cell_type": "code",
      "source": [
        "#celda para overfitting o underfitting\n",
        "y_pred_train = lr.predict(X_train)\n",
        "\n",
        "print('R2_train', r2_score(y_train, y_pred_train))\n",
        "print('mae_train', mean_absolute_error(y_train, y_pred_train))\n",
        "print('mse_train', mean_squared_error(y_train, y_pred_train))\n",
        "print('rmse_train', (mean_squared_error(y_train, y_pred_train))**(1/2))"
      ],
      "metadata": {
        "colab": {
          "base_uri": "https://localhost:8080/"
        },
        "id": "uqnwbei0Mb8l",
        "outputId": "3210adcd-1200-497e-afdb-d39037d85191"
      },
      "execution_count": null,
      "outputs": [
        {
          "output_type": "stream",
          "name": "stdout",
          "text": [
            "R2_train 0.03863312592403001\n",
            "mae_train 0.01001585431425815\n",
            "mse_train 0.004187578911258256\n",
            "rmse_train 0.06471150524642628\n"
          ]
        }
      ]
    },
    {
      "cell_type": "markdown",
      "source": [
        "La metrica de evaluaciones fueron malas para el conjunto de prueba y el de entrenamiento estamos en underfitting"
      ],
      "metadata": {
        "id": "JW0Rc1quFFhj"
      }
    },
    {
      "cell_type": "markdown",
      "source": [
        "**Razones del underfitting:**\n",
        "\n",
        "\n",
        "\n",
        "*   Los datos utilizados para el entrenamiento no están limpios y contienen ruido (valores basura).\n",
        "*   El modelo tiene un alto sesgo.(Este modelo tiene un alto sesgo)\n",
        "*  El tamaño del conjunto de datos de entrenamiento utilizado no es suficiente\n",
        "*El modelo es demasiado simple. (Se probará posteriormente con otro modelo)\n",
        "\n",
        "**Formas de abordar el desajuste**\n",
        "* Aumentar el número de características en el conjunto de datos\n",
        "* Aumentar la complejidad del modelo\n",
        "* Reducir el ruido en los datos\n",
        "* Aumentar la duración del entrenamiento de los datos\n",
        "\n"
      ],
      "metadata": {
        "id": "8inbvXgYyzfD"
      }
    },
    {
      "cell_type": "markdown",
      "source": [
        "\n",
        "\n",
        "---\n",
        "\n"
      ],
      "metadata": {
        "id": "Xn0yRGstLdRp"
      }
    },
    {
      "cell_type": "code",
      "source": [
        "from sklearn.linear_model import LogisticRegression\n",
        "from sklearn.metrics import accuracy_score, confusion_matrix, classification_report\n",
        "\n",
        "logr = LogisticRegression()\n",
        "\n",
        "\n",
        "logr.fit(X_train,y_train)\n",
        "\n",
        "y_pred = logr.predict(X_test)\n",
        "\n",
        "print('accuracy:\\n', accuracy_score(y_test, y_pred))\n",
        "print('confusion_matrix:\\n', confusion_matrix(y_test, y_pred))\n",
        "print('classification:\\n', classification_report(y_test, y_pred))\n"
      ],
      "metadata": {
        "colab": {
          "base_uri": "https://localhost:8080/"
        },
        "id": "RKfuxXhorCF7",
        "outputId": "4657f4ba-6853-4960-fdeb-0a248104fbc2"
      },
      "execution_count": null,
      "outputs": [
        {
          "output_type": "stream",
          "name": "stdout",
          "text": [
            "accuracy:\n",
            " 0.9951334955501483\n",
            "confusion_matrix:\n",
            " [[29855     9]\n",
            " [  137     0]]\n",
            "classification:\n",
            "               precision    recall  f1-score   support\n",
            "\n",
            "           0       1.00      1.00      1.00     29864\n",
            "           1       0.00      0.00      0.00       137\n",
            "\n",
            "    accuracy                           1.00     30001\n",
            "   macro avg       0.50      0.50      0.50     30001\n",
            "weighted avg       0.99      1.00      0.99     30001\n",
            "\n"
          ]
        }
      ]
    },
    {
      "cell_type": "code",
      "source": [
        "#celda para overfitting o underfitting\n",
        "\n",
        "y_pred_train = logr.predict(X_train)\n",
        "\n",
        "print('accuracy', accuracy_score(y_train, y_pred_train))"
      ],
      "metadata": {
        "colab": {
          "base_uri": "https://localhost:8080/"
        },
        "id": "bnkcWyanOxna",
        "outputId": "e042f26d-a408-4594-c4c5-595e0b29c61e"
      },
      "execution_count": null,
      "outputs": [
        {
          "output_type": "stream",
          "name": "stdout",
          "text": [
            "accuracy 0.9952833333333333\n"
          ]
        }
      ]
    },
    {
      "cell_type": "markdown",
      "source": [
        "Las dos metricas son buenas no estoy en overfitting o underfitting\n",
        "\n",
        "  "
      ],
      "metadata": {
        "id": "us5-xpZwI1CJ"
      }
    },
    {
      "cell_type": "code",
      "source": [
        "from sklearn.neighbors import KNeighborsClassifier\n",
        "from sklearn.metrics import accuracy_score, confusion_matrix, classification_report\n",
        "\n",
        "knn = KNeighborsClassifier(n_neighbors=20)\n",
        "\n",
        "knn.fit(X_train,y_train)\n",
        "\n",
        "y_pred = knn.predict(X_test)\n",
        "\n",
        "print('accuracy:\\n', accuracy_score(y_test, y_pred))\n",
        "print('confusion_matrix:\\n', confusion_matrix(y_test, y_pred))\n",
        "print('classification:\\n', classification_report(y_test, y_pred))\n"
      ],
      "metadata": {
        "colab": {
          "base_uri": "https://localhost:8080/"
        },
        "id": "Jjr4wCLWrkpC",
        "outputId": "ac88f22c-c53f-4361-a57e-c68d822de1a7"
      },
      "execution_count": null,
      "outputs": [
        {
          "output_type": "stream",
          "name": "stdout",
          "text": [
            "accuracy:\n",
            " 0.9955001499950001\n",
            "confusion_matrix:\n",
            " [[29862     2]\n",
            " [  133     4]]\n",
            "classification:\n",
            "               precision    recall  f1-score   support\n",
            "\n",
            "           0       1.00      1.00      1.00     29864\n",
            "           1       0.67      0.03      0.06       137\n",
            "\n",
            "    accuracy                           1.00     30001\n",
            "   macro avg       0.83      0.51      0.53     30001\n",
            "weighted avg       0.99      1.00      0.99     30001\n",
            "\n"
          ]
        }
      ]
    },
    {
      "cell_type": "code",
      "source": [
        "#celda para overfitting o underfitting\n",
        "\n",
        "y_pred_train = knn.predict(X_train)\n",
        "\n",
        "print('accuracy', accuracy_score(y_train, y_pred_train))"
      ],
      "metadata": {
        "id": "rFGqBr7YsyWE",
        "colab": {
          "base_uri": "https://localhost:8080/"
        },
        "outputId": "47ea7d71-7879-4a69-ae44-7ce40378319e"
      },
      "execution_count": null,
      "outputs": [
        {
          "output_type": "stream",
          "name": "stdout",
          "text": [
            "accuracy 0.9956833333333334\n"
          ]
        }
      ]
    },
    {
      "cell_type": "markdown",
      "source": [
        "Como es muy común con los datos de fraude, siempre existe el problema del desequilibrio de clases donde los casos reales de fraude son mucho menos que los casos normales y constituyen solo una parte muy pequeña del conjunto de datos. Para contrarrestar este desequilibrio, se utiliza el método SMOTE para volver a muestrear el conjunto de datos de entrenamiento para que el modelo pueda entrenarse con datos más equilibrados para obtener mejores resultados."
      ],
      "metadata": {
        "id": "_GsikXq7Pjnj"
      }
    },
    {
      "cell_type": "code",
      "source": [
        "from collections import Counter\n",
        "print(\"Antes de SMOTE:\", Counter(y_train))"
      ],
      "metadata": {
        "colab": {
          "base_uri": "https://localhost:8080/"
        },
        "id": "r9M3MpMrJ4lp",
        "outputId": "551b13a5-439a-44ca-a82b-b94a4cd882d9"
      },
      "execution_count": null,
      "outputs": [
        {
          "output_type": "stream",
          "name": "stdout",
          "text": [
            "Antes de SMOTE: Counter({0: 119475, 1: 525})\n"
          ]
        }
      ]
    },
    {
      "cell_type": "code",
      "source": [
        "#logistic regression\n",
        "from imblearn.over_sampling import SMOTE\n",
        "from sklearn.linear_model import LogisticRegression\n",
        "from sklearn.model_selection import train_test_split\n",
        "from sklearn.metrics import confusion_matrix, classification_report\n",
        "\n",
        "method= SMOTE()\n",
        "X_resampled, y_resampled = method.fit_resample(X_train, y_train)\n",
        "model=LogisticRegression()\n",
        "model.fit(X_resampled,y_resampled)\n",
        "predicted=model.predict(X_test)\n",
        "print('Informe de clasificación:\\n', classification_report(y_test, predicted))\n",
        "conf_mat = confusion_matrix(y_true=y_test, y_pred=predicted)\n",
        "print('Matriz de confusión:\\n', conf_mat)\n",
        "print('Porcentaje de no fraude en datos de prueba:', 1-round(y_test.sum()/len(y_test),4))"
      ],
      "metadata": {
        "colab": {
          "base_uri": "https://localhost:8080/"
        },
        "id": "k_YP86s071jZ",
        "outputId": "1035f3d1-9785-4a94-e55c-9e5ac9cb8960"
      },
      "execution_count": null,
      "outputs": [
        {
          "output_type": "stream",
          "name": "stdout",
          "text": [
            "Informe de clasificación:\n",
            "               precision    recall  f1-score   support\n",
            "\n",
            "           0       1.00      0.95      0.97     29864\n",
            "           1       0.06      0.71      0.11       137\n",
            "\n",
            "    accuracy                           0.95     30001\n",
            "   macro avg       0.53      0.83      0.54     30001\n",
            "weighted avg       0.99      0.95      0.97     30001\n",
            "\n",
            "Matriz de confusión:\n",
            " [[28255  1609]\n",
            " [   40    97]]\n",
            "Porcentaje de no fraude en datos de prueba: 0.9954\n"
          ]
        }
      ]
    },
    {
      "cell_type": "code",
      "source": [
        "print(\"Después SMOTE:\", Counter(y_resampled))\n",
        "#print(\"After SMOTE:\", Counter(y_train_smote))"
      ],
      "metadata": {
        "colab": {
          "base_uri": "https://localhost:8080/"
        },
        "id": "MxBC2i6YJtdI",
        "outputId": "4ccf1e31-3628-497b-b8ca-d4cd72c7d973"
      },
      "execution_count": null,
      "outputs": [
        {
          "output_type": "stream",
          "name": "stdout",
          "text": [
            "Después SMOTE: Counter({0: 119475, 1: 119475})\n"
          ]
        }
      ]
    },
    {
      "cell_type": "markdown",
      "source": [
        "Usando SMOTE con regresión, se perdió precisión, pero se ganó sensibilidad. Además, el f1 score es inferior.\n",
        "Se podría probar más modelos, para encontrar mayor rendimiento general.\n"
      ],
      "metadata": {
        "id": "007ss0oNTgsJ"
      }
    }
  ]
}
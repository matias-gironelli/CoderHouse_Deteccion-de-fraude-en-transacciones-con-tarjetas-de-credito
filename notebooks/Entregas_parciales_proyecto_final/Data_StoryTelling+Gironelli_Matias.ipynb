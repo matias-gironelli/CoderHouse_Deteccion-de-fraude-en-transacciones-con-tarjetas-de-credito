{
  "nbformat": 4,
  "nbformat_minor": 0,
  "metadata": {
    "colab": {
      "provenance": []
    },
    "kernelspec": {
      "name": "python3",
      "display_name": "Python 3"
    },
    "language_info": {
      "name": "python"
    }
  },
  "cells": [
    {
      "cell_type": "code",
      "execution_count": null,
      "metadata": {
        "id": "38BXo0PYoQwV"
      },
      "outputs": [],
      "source": [
        "import numpy as np\n",
        "import pandas as pd\n",
        "import seaborn as sns\n",
        "import plotly.express as px\n",
        "import matplotlib as mpl\n",
        "from matplotlib import pyplot as plt\n",
        "#import matplotlib.pyplot as plt\n",
        "from sklearn.model_selection import cross_val_score\n",
        "from sklearn import metrics\n",
        "from collections import Counter\n",
        "from scipy import stats\n",
        "from scipy.stats import norm, skew, kurtosis\n"
      ]
    },
    {
      "cell_type": "code",
      "source": [
        "#Cargar el Dataset\n",
        "from google.colab import drive\n",
        "import os\n",
        "drive.mount('/content/gdrive/')"
      ],
      "metadata": {
        "colab": {
          "base_uri": "https://localhost:8080/"
        },
        "id": "FYYpQwMy-DS4",
        "outputId": "edc6d07e-4155-4cd0-b1ae-56fe978158b1"
      },
      "execution_count": null,
      "outputs": [
        {
          "output_type": "stream",
          "name": "stdout",
          "text": [
            "Drive already mounted at /content/gdrive/; to attempt to forcibly remount, call drive.mount(\"/content/gdrive/\", force_remount=True).\n"
          ]
        }
      ]
    },
    {
      "cell_type": "code",
      "source": [
        "#Leer el Dataset\n",
        "%cd '/content/gdrive/MyDrive/CoderHouse/Data_Science'\n",
        "creditcard = pd.read_csv('fraud.csv')"
      ],
      "metadata": {
        "colab": {
          "base_uri": "https://localhost:8080/"
        },
        "id": "M1OP0rH9-E2o",
        "outputId": "20bba7da-89d9-4352-cfd5-69bf9b658480"
      },
      "execution_count": null,
      "outputs": [
        {
          "output_type": "stream",
          "name": "stdout",
          "text": [
            "/content/gdrive/MyDrive/CoderHouse/Data_Science\n"
          ]
        }
      ]
    },
    {
      "cell_type": "code",
      "source": [
        "#Mostrar el Dataset\n",
        "creditcard"
      ],
      "metadata": {
        "colab": {
          "base_uri": "https://localhost:8080/",
          "height": 887
        },
        "id": "f9Tx_A4n-HhX",
        "outputId": "2ee12aa1-cbf2-4a51-92e5-10786d534ec9"
      },
      "execution_count": null,
      "outputs": [
        {
          "output_type": "execute_result",
          "data": {
            "text/plain": [
              "        Unnamed: 0 trans_date_trans_time        cc_num  \\\n",
              "0                0         1/1/2019 0:00  2.703190e+15   \n",
              "1                1         1/1/2019 0:00  6.304230e+11   \n",
              "2                2         1/1/2019 0:00  3.885950e+13   \n",
              "3                3         1/1/2019 0:01  3.534090e+15   \n",
              "4                4         1/1/2019 0:03  3.755340e+14   \n",
              "...            ...                   ...           ...   \n",
              "199996      199996         3/1/2020 0:02  3.585740e+15   \n",
              "199997      199997         3/1/2020 0:06  3.512370e+15   \n",
              "199998      199998         3/1/2020 0:07  4.229730e+15   \n",
              "199999      199999         3/1/2020 0:07  4.390970e+18   \n",
              "200000      200000         3/1/2020 0:08  4.158010e+12   \n",
              "\n",
              "                                  merchant       category     amt      first  \\\n",
              "0               fraud_Rippin, Kub and Mann       misc_net    4.97   Jennifer   \n",
              "1          fraud_Heller, Gutmann and Zieme    grocery_pos  107.23  Stephanie   \n",
              "2                     fraud_Lind-Buckridge  entertainment  220.11     Edward   \n",
              "3       fraud_Kutch, Hermiston and Farrell  gas_transport   45.00     Jeremy   \n",
              "4                      fraud_Keeling-Crist       misc_pos   41.96      Tyler   \n",
              "...                                    ...            ...     ...        ...   \n",
              "199996                   fraud_Kuvalis Ltd  gas_transport   45.60      James   \n",
              "199997             fraud_Bartoletti-Wunsch  gas_transport   57.23  Francisco   \n",
              "199998                     fraud_Welch Inc       misc_net    7.90      Tyler   \n",
              "199999               fraud_Dooley-Thompson       misc_net    4.52       Kyle   \n",
              "200000                    fraud_Huels-Hahn  gas_transport   81.83     Alicia   \n",
              "\n",
              "           last gender                         street  ...      lat      long  \\\n",
              "0         Banks      F                 561 Perry Cove  ...  36.0788  -81.1781   \n",
              "1          Gill      F   43039 Riley Greens Suite 393  ...  48.8878 -118.2105   \n",
              "2       Sanchez      M       594 White Dale Suite 530  ...  42.1808 -112.2620   \n",
              "3         White      M    9443 Cynthia Court Apt. 038  ...  46.2306 -112.1138   \n",
              "4        Garcia      M               408 Bradley Rest  ...  38.4207  -79.4629   \n",
              "...         ...    ...                            ...  ...      ...       ...   \n",
              "199996   Greene      M  082 Hernandez Bypass Apt. 886  ...  34.2956  -99.7494   \n",
              "199997     Kemp      M              9554 Flores Drive  ...  38.4305  -90.3870   \n",
              "199998    Mills      M             7838 Jason Squares  ...  37.6848  -85.8784   \n",
              "199999  Simmons      M             8149 Harris Divide  ...  35.6174  -97.5583   \n",
              "200000   Miller      F              976 Hubbard Lodge  ...  44.5274  -93.0196   \n",
              "\n",
              "        city_pop                                job         dob  \\\n",
              "0           3495          Psychologist, counselling    3/9/1988   \n",
              "1            149  Special educational needs teacher   6/21/1978   \n",
              "2           4154        Nature conservation officer   1/19/1962   \n",
              "3           1939                    Patent attorney   1/12/1967   \n",
              "4             99     Dance movement psychotherapist   3/28/1986   \n",
              "...          ...                                ...         ...   \n",
              "199996      3202                  Librarian, public   3/18/1998   \n",
              "199997     35439            Land/geomatics surveyor   3/31/1985   \n",
              "199998     48194                            Surgeon    5/3/1990   \n",
              "199999    640470             Advertising copywriter   6/24/1966   \n",
              "200000      1201                          Barrister  12/27/1979   \n",
              "\n",
              "                               trans_num   unix_time  merch_lat  merch_long  \\\n",
              "0       0b242abb623afc578575680df30655b9  1325376018  36.011293  -82.048315   \n",
              "1       1f76529f8574734946361c461b024d99  1325376044  49.159047 -118.186462   \n",
              "2       a1a22d70485983eac12b5b88dad1cf95  1325376051  43.150704 -112.154481   \n",
              "3       6b849c168bdad6f867558c3793159a81  1325376076  47.034331 -112.561071   \n",
              "4       a41d7549acf90789359a9aa5346dcb46  1325376186  38.674999  -78.632459   \n",
              "...                                  ...         ...        ...         ...   \n",
              "199996  9726c00bd873467853c3af1b2f0abe8d  1362096171  33.913777 -100.466829   \n",
              "199997  b0762189a450a720f4ee4547fcf6fc7f  1362096363  37.860662  -90.534356   \n",
              "199998  74fc56abcfe99529b5ebf42a9eb380d5  1362096427  38.119560  -86.804391   \n",
              "199999  9ca17325b650b1a6e6acae3fed656d51  1362096456  35.835027  -98.513300   \n",
              "200000  16fe5c365cecca59e56fd0dbc6378ffc  1362096485  43.596028  -92.859105   \n",
              "\n",
              "        is_fraud  \n",
              "0              0  \n",
              "1              0  \n",
              "2              0  \n",
              "3              0  \n",
              "4              0  \n",
              "...          ...  \n",
              "199996         0  \n",
              "199997         0  \n",
              "199998         0  \n",
              "199999         0  \n",
              "200000         0  \n",
              "\n",
              "[200001 rows x 23 columns]"
            ],
            "text/html": [
              "\n",
              "  <div id=\"df-85228417-dd04-4bfc-a4e4-67cf552b486f\">\n",
              "    <div class=\"colab-df-container\">\n",
              "      <div>\n",
              "<style scoped>\n",
              "    .dataframe tbody tr th:only-of-type {\n",
              "        vertical-align: middle;\n",
              "    }\n",
              "\n",
              "    .dataframe tbody tr th {\n",
              "        vertical-align: top;\n",
              "    }\n",
              "\n",
              "    .dataframe thead th {\n",
              "        text-align: right;\n",
              "    }\n",
              "</style>\n",
              "<table border=\"1\" class=\"dataframe\">\n",
              "  <thead>\n",
              "    <tr style=\"text-align: right;\">\n",
              "      <th></th>\n",
              "      <th>Unnamed: 0</th>\n",
              "      <th>trans_date_trans_time</th>\n",
              "      <th>cc_num</th>\n",
              "      <th>merchant</th>\n",
              "      <th>category</th>\n",
              "      <th>amt</th>\n",
              "      <th>first</th>\n",
              "      <th>last</th>\n",
              "      <th>gender</th>\n",
              "      <th>street</th>\n",
              "      <th>...</th>\n",
              "      <th>lat</th>\n",
              "      <th>long</th>\n",
              "      <th>city_pop</th>\n",
              "      <th>job</th>\n",
              "      <th>dob</th>\n",
              "      <th>trans_num</th>\n",
              "      <th>unix_time</th>\n",
              "      <th>merch_lat</th>\n",
              "      <th>merch_long</th>\n",
              "      <th>is_fraud</th>\n",
              "    </tr>\n",
              "  </thead>\n",
              "  <tbody>\n",
              "    <tr>\n",
              "      <th>0</th>\n",
              "      <td>0</td>\n",
              "      <td>1/1/2019 0:00</td>\n",
              "      <td>2.703190e+15</td>\n",
              "      <td>fraud_Rippin, Kub and Mann</td>\n",
              "      <td>misc_net</td>\n",
              "      <td>4.97</td>\n",
              "      <td>Jennifer</td>\n",
              "      <td>Banks</td>\n",
              "      <td>F</td>\n",
              "      <td>561 Perry Cove</td>\n",
              "      <td>...</td>\n",
              "      <td>36.0788</td>\n",
              "      <td>-81.1781</td>\n",
              "      <td>3495</td>\n",
              "      <td>Psychologist, counselling</td>\n",
              "      <td>3/9/1988</td>\n",
              "      <td>0b242abb623afc578575680df30655b9</td>\n",
              "      <td>1325376018</td>\n",
              "      <td>36.011293</td>\n",
              "      <td>-82.048315</td>\n",
              "      <td>0</td>\n",
              "    </tr>\n",
              "    <tr>\n",
              "      <th>1</th>\n",
              "      <td>1</td>\n",
              "      <td>1/1/2019 0:00</td>\n",
              "      <td>6.304230e+11</td>\n",
              "      <td>fraud_Heller, Gutmann and Zieme</td>\n",
              "      <td>grocery_pos</td>\n",
              "      <td>107.23</td>\n",
              "      <td>Stephanie</td>\n",
              "      <td>Gill</td>\n",
              "      <td>F</td>\n",
              "      <td>43039 Riley Greens Suite 393</td>\n",
              "      <td>...</td>\n",
              "      <td>48.8878</td>\n",
              "      <td>-118.2105</td>\n",
              "      <td>149</td>\n",
              "      <td>Special educational needs teacher</td>\n",
              "      <td>6/21/1978</td>\n",
              "      <td>1f76529f8574734946361c461b024d99</td>\n",
              "      <td>1325376044</td>\n",
              "      <td>49.159047</td>\n",
              "      <td>-118.186462</td>\n",
              "      <td>0</td>\n",
              "    </tr>\n",
              "    <tr>\n",
              "      <th>2</th>\n",
              "      <td>2</td>\n",
              "      <td>1/1/2019 0:00</td>\n",
              "      <td>3.885950e+13</td>\n",
              "      <td>fraud_Lind-Buckridge</td>\n",
              "      <td>entertainment</td>\n",
              "      <td>220.11</td>\n",
              "      <td>Edward</td>\n",
              "      <td>Sanchez</td>\n",
              "      <td>M</td>\n",
              "      <td>594 White Dale Suite 530</td>\n",
              "      <td>...</td>\n",
              "      <td>42.1808</td>\n",
              "      <td>-112.2620</td>\n",
              "      <td>4154</td>\n",
              "      <td>Nature conservation officer</td>\n",
              "      <td>1/19/1962</td>\n",
              "      <td>a1a22d70485983eac12b5b88dad1cf95</td>\n",
              "      <td>1325376051</td>\n",
              "      <td>43.150704</td>\n",
              "      <td>-112.154481</td>\n",
              "      <td>0</td>\n",
              "    </tr>\n",
              "    <tr>\n",
              "      <th>3</th>\n",
              "      <td>3</td>\n",
              "      <td>1/1/2019 0:01</td>\n",
              "      <td>3.534090e+15</td>\n",
              "      <td>fraud_Kutch, Hermiston and Farrell</td>\n",
              "      <td>gas_transport</td>\n",
              "      <td>45.00</td>\n",
              "      <td>Jeremy</td>\n",
              "      <td>White</td>\n",
              "      <td>M</td>\n",
              "      <td>9443 Cynthia Court Apt. 038</td>\n",
              "      <td>...</td>\n",
              "      <td>46.2306</td>\n",
              "      <td>-112.1138</td>\n",
              "      <td>1939</td>\n",
              "      <td>Patent attorney</td>\n",
              "      <td>1/12/1967</td>\n",
              "      <td>6b849c168bdad6f867558c3793159a81</td>\n",
              "      <td>1325376076</td>\n",
              "      <td>47.034331</td>\n",
              "      <td>-112.561071</td>\n",
              "      <td>0</td>\n",
              "    </tr>\n",
              "    <tr>\n",
              "      <th>4</th>\n",
              "      <td>4</td>\n",
              "      <td>1/1/2019 0:03</td>\n",
              "      <td>3.755340e+14</td>\n",
              "      <td>fraud_Keeling-Crist</td>\n",
              "      <td>misc_pos</td>\n",
              "      <td>41.96</td>\n",
              "      <td>Tyler</td>\n",
              "      <td>Garcia</td>\n",
              "      <td>M</td>\n",
              "      <td>408 Bradley Rest</td>\n",
              "      <td>...</td>\n",
              "      <td>38.4207</td>\n",
              "      <td>-79.4629</td>\n",
              "      <td>99</td>\n",
              "      <td>Dance movement psychotherapist</td>\n",
              "      <td>3/28/1986</td>\n",
              "      <td>a41d7549acf90789359a9aa5346dcb46</td>\n",
              "      <td>1325376186</td>\n",
              "      <td>38.674999</td>\n",
              "      <td>-78.632459</td>\n",
              "      <td>0</td>\n",
              "    </tr>\n",
              "    <tr>\n",
              "      <th>...</th>\n",
              "      <td>...</td>\n",
              "      <td>...</td>\n",
              "      <td>...</td>\n",
              "      <td>...</td>\n",
              "      <td>...</td>\n",
              "      <td>...</td>\n",
              "      <td>...</td>\n",
              "      <td>...</td>\n",
              "      <td>...</td>\n",
              "      <td>...</td>\n",
              "      <td>...</td>\n",
              "      <td>...</td>\n",
              "      <td>...</td>\n",
              "      <td>...</td>\n",
              "      <td>...</td>\n",
              "      <td>...</td>\n",
              "      <td>...</td>\n",
              "      <td>...</td>\n",
              "      <td>...</td>\n",
              "      <td>...</td>\n",
              "      <td>...</td>\n",
              "    </tr>\n",
              "    <tr>\n",
              "      <th>199996</th>\n",
              "      <td>199996</td>\n",
              "      <td>3/1/2020 0:02</td>\n",
              "      <td>3.585740e+15</td>\n",
              "      <td>fraud_Kuvalis Ltd</td>\n",
              "      <td>gas_transport</td>\n",
              "      <td>45.60</td>\n",
              "      <td>James</td>\n",
              "      <td>Greene</td>\n",
              "      <td>M</td>\n",
              "      <td>082 Hernandez Bypass Apt. 886</td>\n",
              "      <td>...</td>\n",
              "      <td>34.2956</td>\n",
              "      <td>-99.7494</td>\n",
              "      <td>3202</td>\n",
              "      <td>Librarian, public</td>\n",
              "      <td>3/18/1998</td>\n",
              "      <td>9726c00bd873467853c3af1b2f0abe8d</td>\n",
              "      <td>1362096171</td>\n",
              "      <td>33.913777</td>\n",
              "      <td>-100.466829</td>\n",
              "      <td>0</td>\n",
              "    </tr>\n",
              "    <tr>\n",
              "      <th>199997</th>\n",
              "      <td>199997</td>\n",
              "      <td>3/1/2020 0:06</td>\n",
              "      <td>3.512370e+15</td>\n",
              "      <td>fraud_Bartoletti-Wunsch</td>\n",
              "      <td>gas_transport</td>\n",
              "      <td>57.23</td>\n",
              "      <td>Francisco</td>\n",
              "      <td>Kemp</td>\n",
              "      <td>M</td>\n",
              "      <td>9554 Flores Drive</td>\n",
              "      <td>...</td>\n",
              "      <td>38.4305</td>\n",
              "      <td>-90.3870</td>\n",
              "      <td>35439</td>\n",
              "      <td>Land/geomatics surveyor</td>\n",
              "      <td>3/31/1985</td>\n",
              "      <td>b0762189a450a720f4ee4547fcf6fc7f</td>\n",
              "      <td>1362096363</td>\n",
              "      <td>37.860662</td>\n",
              "      <td>-90.534356</td>\n",
              "      <td>0</td>\n",
              "    </tr>\n",
              "    <tr>\n",
              "      <th>199998</th>\n",
              "      <td>199998</td>\n",
              "      <td>3/1/2020 0:07</td>\n",
              "      <td>4.229730e+15</td>\n",
              "      <td>fraud_Welch Inc</td>\n",
              "      <td>misc_net</td>\n",
              "      <td>7.90</td>\n",
              "      <td>Tyler</td>\n",
              "      <td>Mills</td>\n",
              "      <td>M</td>\n",
              "      <td>7838 Jason Squares</td>\n",
              "      <td>...</td>\n",
              "      <td>37.6848</td>\n",
              "      <td>-85.8784</td>\n",
              "      <td>48194</td>\n",
              "      <td>Surgeon</td>\n",
              "      <td>5/3/1990</td>\n",
              "      <td>74fc56abcfe99529b5ebf42a9eb380d5</td>\n",
              "      <td>1362096427</td>\n",
              "      <td>38.119560</td>\n",
              "      <td>-86.804391</td>\n",
              "      <td>0</td>\n",
              "    </tr>\n",
              "    <tr>\n",
              "      <th>199999</th>\n",
              "      <td>199999</td>\n",
              "      <td>3/1/2020 0:07</td>\n",
              "      <td>4.390970e+18</td>\n",
              "      <td>fraud_Dooley-Thompson</td>\n",
              "      <td>misc_net</td>\n",
              "      <td>4.52</td>\n",
              "      <td>Kyle</td>\n",
              "      <td>Simmons</td>\n",
              "      <td>M</td>\n",
              "      <td>8149 Harris Divide</td>\n",
              "      <td>...</td>\n",
              "      <td>35.6174</td>\n",
              "      <td>-97.5583</td>\n",
              "      <td>640470</td>\n",
              "      <td>Advertising copywriter</td>\n",
              "      <td>6/24/1966</td>\n",
              "      <td>9ca17325b650b1a6e6acae3fed656d51</td>\n",
              "      <td>1362096456</td>\n",
              "      <td>35.835027</td>\n",
              "      <td>-98.513300</td>\n",
              "      <td>0</td>\n",
              "    </tr>\n",
              "    <tr>\n",
              "      <th>200000</th>\n",
              "      <td>200000</td>\n",
              "      <td>3/1/2020 0:08</td>\n",
              "      <td>4.158010e+12</td>\n",
              "      <td>fraud_Huels-Hahn</td>\n",
              "      <td>gas_transport</td>\n",
              "      <td>81.83</td>\n",
              "      <td>Alicia</td>\n",
              "      <td>Miller</td>\n",
              "      <td>F</td>\n",
              "      <td>976 Hubbard Lodge</td>\n",
              "      <td>...</td>\n",
              "      <td>44.5274</td>\n",
              "      <td>-93.0196</td>\n",
              "      <td>1201</td>\n",
              "      <td>Barrister</td>\n",
              "      <td>12/27/1979</td>\n",
              "      <td>16fe5c365cecca59e56fd0dbc6378ffc</td>\n",
              "      <td>1362096485</td>\n",
              "      <td>43.596028</td>\n",
              "      <td>-92.859105</td>\n",
              "      <td>0</td>\n",
              "    </tr>\n",
              "  </tbody>\n",
              "</table>\n",
              "<p>200001 rows × 23 columns</p>\n",
              "</div>\n",
              "      <button class=\"colab-df-convert\" onclick=\"convertToInteractive('df-85228417-dd04-4bfc-a4e4-67cf552b486f')\"\n",
              "              title=\"Convert this dataframe to an interactive table.\"\n",
              "              style=\"display:none;\">\n",
              "        \n",
              "  <svg xmlns=\"http://www.w3.org/2000/svg\" height=\"24px\"viewBox=\"0 0 24 24\"\n",
              "       width=\"24px\">\n",
              "    <path d=\"M0 0h24v24H0V0z\" fill=\"none\"/>\n",
              "    <path d=\"M18.56 5.44l.94 2.06.94-2.06 2.06-.94-2.06-.94-.94-2.06-.94 2.06-2.06.94zm-11 1L8.5 8.5l.94-2.06 2.06-.94-2.06-.94L8.5 2.5l-.94 2.06-2.06.94zm10 10l.94 2.06.94-2.06 2.06-.94-2.06-.94-.94-2.06-.94 2.06-2.06.94z\"/><path d=\"M17.41 7.96l-1.37-1.37c-.4-.4-.92-.59-1.43-.59-.52 0-1.04.2-1.43.59L10.3 9.45l-7.72 7.72c-.78.78-.78 2.05 0 2.83L4 21.41c.39.39.9.59 1.41.59.51 0 1.02-.2 1.41-.59l7.78-7.78 2.81-2.81c.8-.78.8-2.07 0-2.86zM5.41 20L4 18.59l7.72-7.72 1.47 1.35L5.41 20z\"/>\n",
              "  </svg>\n",
              "      </button>\n",
              "      \n",
              "  <style>\n",
              "    .colab-df-container {\n",
              "      display:flex;\n",
              "      flex-wrap:wrap;\n",
              "      gap: 12px;\n",
              "    }\n",
              "\n",
              "    .colab-df-convert {\n",
              "      background-color: #E8F0FE;\n",
              "      border: none;\n",
              "      border-radius: 50%;\n",
              "      cursor: pointer;\n",
              "      display: none;\n",
              "      fill: #1967D2;\n",
              "      height: 32px;\n",
              "      padding: 0 0 0 0;\n",
              "      width: 32px;\n",
              "    }\n",
              "\n",
              "    .colab-df-convert:hover {\n",
              "      background-color: #E2EBFA;\n",
              "      box-shadow: 0px 1px 2px rgba(60, 64, 67, 0.3), 0px 1px 3px 1px rgba(60, 64, 67, 0.15);\n",
              "      fill: #174EA6;\n",
              "    }\n",
              "\n",
              "    [theme=dark] .colab-df-convert {\n",
              "      background-color: #3B4455;\n",
              "      fill: #D2E3FC;\n",
              "    }\n",
              "\n",
              "    [theme=dark] .colab-df-convert:hover {\n",
              "      background-color: #434B5C;\n",
              "      box-shadow: 0px 1px 3px 1px rgba(0, 0, 0, 0.15);\n",
              "      filter: drop-shadow(0px 1px 2px rgba(0, 0, 0, 0.3));\n",
              "      fill: #FFFFFF;\n",
              "    }\n",
              "  </style>\n",
              "\n",
              "      <script>\n",
              "        const buttonEl =\n",
              "          document.querySelector('#df-85228417-dd04-4bfc-a4e4-67cf552b486f button.colab-df-convert');\n",
              "        buttonEl.style.display =\n",
              "          google.colab.kernel.accessAllowed ? 'block' : 'none';\n",
              "\n",
              "        async function convertToInteractive(key) {\n",
              "          const element = document.querySelector('#df-85228417-dd04-4bfc-a4e4-67cf552b486f');\n",
              "          const dataTable =\n",
              "            await google.colab.kernel.invokeFunction('convertToInteractive',\n",
              "                                                     [key], {});\n",
              "          if (!dataTable) return;\n",
              "\n",
              "          const docLinkHtml = 'Like what you see? Visit the ' +\n",
              "            '<a target=\"_blank\" href=https://colab.research.google.com/notebooks/data_table.ipynb>data table notebook</a>'\n",
              "            + ' to learn more about interactive tables.';\n",
              "          element.innerHTML = '';\n",
              "          dataTable['output_type'] = 'display_data';\n",
              "          await google.colab.output.renderOutput(dataTable, element);\n",
              "          const docLink = document.createElement('div');\n",
              "          docLink.innerHTML = docLinkHtml;\n",
              "          element.appendChild(docLink);\n",
              "        }\n",
              "      </script>\n",
              "    </div>\n",
              "  </div>\n",
              "  "
            ]
          },
          "metadata": {},
          "execution_count": 48
        }
      ]
    },
    {
      "cell_type": "code",
      "source": [
        "creditcard.shape"
      ],
      "metadata": {
        "colab": {
          "base_uri": "https://localhost:8080/"
        },
        "id": "Cs9ItdgU3lx5",
        "outputId": "f238a653-397d-412a-e515-6fb114cd3707"
      },
      "execution_count": null,
      "outputs": [
        {
          "output_type": "execute_result",
          "data": {
            "text/plain": [
              "(200001, 23)"
            ]
          },
          "metadata": {},
          "execution_count": 49
        }
      ]
    },
    {
      "cell_type": "code",
      "source": [
        "creditcard.describe()"
      ],
      "metadata": {
        "colab": {
          "base_uri": "https://localhost:8080/",
          "height": 300
        },
        "id": "kYeqWB5e-fZu",
        "outputId": "a0afb7d7-f864-43b9-c9dd-c55e6af44456"
      },
      "execution_count": null,
      "outputs": [
        {
          "output_type": "execute_result",
          "data": {
            "text/plain": [
              "          Unnamed: 0        cc_num            amt            zip  \\\n",
              "count  200001.000000  2.000010e+05  200001.000000  200001.000000   \n",
              "mean   100000.000000  4.195740e+17      71.122196   48797.818876   \n",
              "std     57735.459931  1.311470e+18     144.445241   26864.172528   \n",
              "min         0.000000  6.041621e+10       1.000000    1257.000000   \n",
              "25%     50000.000000  1.800360e+14       9.710000   26237.000000   \n",
              "50%    100000.000000  3.519610e+15      47.960000   48174.000000   \n",
              "75%    150000.000000  4.642260e+15      83.520000   72011.000000   \n",
              "max    200000.000000  4.992350e+18   12788.070000   99783.000000   \n",
              "\n",
              "                 lat           long      city_pop     unix_time  \\\n",
              "count  200001.000000  200001.000000  2.000010e+05  2.000010e+05   \n",
              "mean       38.535025     -90.209092  8.880481e+04  1.343728e+09   \n",
              "std         5.082839      13.736120  3.018709e+05  1.587880e+07   \n",
              "min        20.027100    -165.672300  2.300000e+01  1.325376e+09   \n",
              "25%        34.620500     -96.790900  7.410000e+02  1.327877e+09   \n",
              "50%        39.354300     -87.476900  2.435000e+03  1.330444e+09   \n",
              "75%        41.940400     -80.158000  2.032800e+04  1.359547e+09   \n",
              "max        65.689900     -67.950300  2.906700e+06  1.362096e+09   \n",
              "\n",
              "           merch_lat     merch_long       is_fraud  \n",
              "count  200001.000000  200001.000000  200001.000000  \n",
              "mean       38.536209     -90.210839       0.008345  \n",
              "std         5.115922      13.749521       0.090969  \n",
              "min        19.029798    -166.670132       0.000000  \n",
              "25%        34.723916     -96.867821       0.000000  \n",
              "50%        39.361998     -87.454358       0.000000  \n",
              "75%        41.956494     -80.236912       0.000000  \n",
              "max        66.659242     -66.950902       1.000000  "
            ],
            "text/html": [
              "\n",
              "  <div id=\"df-7c559b5c-5340-479d-aad5-0d8f7d6e8d38\">\n",
              "    <div class=\"colab-df-container\">\n",
              "      <div>\n",
              "<style scoped>\n",
              "    .dataframe tbody tr th:only-of-type {\n",
              "        vertical-align: middle;\n",
              "    }\n",
              "\n",
              "    .dataframe tbody tr th {\n",
              "        vertical-align: top;\n",
              "    }\n",
              "\n",
              "    .dataframe thead th {\n",
              "        text-align: right;\n",
              "    }\n",
              "</style>\n",
              "<table border=\"1\" class=\"dataframe\">\n",
              "  <thead>\n",
              "    <tr style=\"text-align: right;\">\n",
              "      <th></th>\n",
              "      <th>Unnamed: 0</th>\n",
              "      <th>cc_num</th>\n",
              "      <th>amt</th>\n",
              "      <th>zip</th>\n",
              "      <th>lat</th>\n",
              "      <th>long</th>\n",
              "      <th>city_pop</th>\n",
              "      <th>unix_time</th>\n",
              "      <th>merch_lat</th>\n",
              "      <th>merch_long</th>\n",
              "      <th>is_fraud</th>\n",
              "    </tr>\n",
              "  </thead>\n",
              "  <tbody>\n",
              "    <tr>\n",
              "      <th>count</th>\n",
              "      <td>200001.000000</td>\n",
              "      <td>2.000010e+05</td>\n",
              "      <td>200001.000000</td>\n",
              "      <td>200001.000000</td>\n",
              "      <td>200001.000000</td>\n",
              "      <td>200001.000000</td>\n",
              "      <td>2.000010e+05</td>\n",
              "      <td>2.000010e+05</td>\n",
              "      <td>200001.000000</td>\n",
              "      <td>200001.000000</td>\n",
              "      <td>200001.000000</td>\n",
              "    </tr>\n",
              "    <tr>\n",
              "      <th>mean</th>\n",
              "      <td>100000.000000</td>\n",
              "      <td>4.195740e+17</td>\n",
              "      <td>71.122196</td>\n",
              "      <td>48797.818876</td>\n",
              "      <td>38.535025</td>\n",
              "      <td>-90.209092</td>\n",
              "      <td>8.880481e+04</td>\n",
              "      <td>1.343728e+09</td>\n",
              "      <td>38.536209</td>\n",
              "      <td>-90.210839</td>\n",
              "      <td>0.008345</td>\n",
              "    </tr>\n",
              "    <tr>\n",
              "      <th>std</th>\n",
              "      <td>57735.459931</td>\n",
              "      <td>1.311470e+18</td>\n",
              "      <td>144.445241</td>\n",
              "      <td>26864.172528</td>\n",
              "      <td>5.082839</td>\n",
              "      <td>13.736120</td>\n",
              "      <td>3.018709e+05</td>\n",
              "      <td>1.587880e+07</td>\n",
              "      <td>5.115922</td>\n",
              "      <td>13.749521</td>\n",
              "      <td>0.090969</td>\n",
              "    </tr>\n",
              "    <tr>\n",
              "      <th>min</th>\n",
              "      <td>0.000000</td>\n",
              "      <td>6.041621e+10</td>\n",
              "      <td>1.000000</td>\n",
              "      <td>1257.000000</td>\n",
              "      <td>20.027100</td>\n",
              "      <td>-165.672300</td>\n",
              "      <td>2.300000e+01</td>\n",
              "      <td>1.325376e+09</td>\n",
              "      <td>19.029798</td>\n",
              "      <td>-166.670132</td>\n",
              "      <td>0.000000</td>\n",
              "    </tr>\n",
              "    <tr>\n",
              "      <th>25%</th>\n",
              "      <td>50000.000000</td>\n",
              "      <td>1.800360e+14</td>\n",
              "      <td>9.710000</td>\n",
              "      <td>26237.000000</td>\n",
              "      <td>34.620500</td>\n",
              "      <td>-96.790900</td>\n",
              "      <td>7.410000e+02</td>\n",
              "      <td>1.327877e+09</td>\n",
              "      <td>34.723916</td>\n",
              "      <td>-96.867821</td>\n",
              "      <td>0.000000</td>\n",
              "    </tr>\n",
              "    <tr>\n",
              "      <th>50%</th>\n",
              "      <td>100000.000000</td>\n",
              "      <td>3.519610e+15</td>\n",
              "      <td>47.960000</td>\n",
              "      <td>48174.000000</td>\n",
              "      <td>39.354300</td>\n",
              "      <td>-87.476900</td>\n",
              "      <td>2.435000e+03</td>\n",
              "      <td>1.330444e+09</td>\n",
              "      <td>39.361998</td>\n",
              "      <td>-87.454358</td>\n",
              "      <td>0.000000</td>\n",
              "    </tr>\n",
              "    <tr>\n",
              "      <th>75%</th>\n",
              "      <td>150000.000000</td>\n",
              "      <td>4.642260e+15</td>\n",
              "      <td>83.520000</td>\n",
              "      <td>72011.000000</td>\n",
              "      <td>41.940400</td>\n",
              "      <td>-80.158000</td>\n",
              "      <td>2.032800e+04</td>\n",
              "      <td>1.359547e+09</td>\n",
              "      <td>41.956494</td>\n",
              "      <td>-80.236912</td>\n",
              "      <td>0.000000</td>\n",
              "    </tr>\n",
              "    <tr>\n",
              "      <th>max</th>\n",
              "      <td>200000.000000</td>\n",
              "      <td>4.992350e+18</td>\n",
              "      <td>12788.070000</td>\n",
              "      <td>99783.000000</td>\n",
              "      <td>65.689900</td>\n",
              "      <td>-67.950300</td>\n",
              "      <td>2.906700e+06</td>\n",
              "      <td>1.362096e+09</td>\n",
              "      <td>66.659242</td>\n",
              "      <td>-66.950902</td>\n",
              "      <td>1.000000</td>\n",
              "    </tr>\n",
              "  </tbody>\n",
              "</table>\n",
              "</div>\n",
              "      <button class=\"colab-df-convert\" onclick=\"convertToInteractive('df-7c559b5c-5340-479d-aad5-0d8f7d6e8d38')\"\n",
              "              title=\"Convert this dataframe to an interactive table.\"\n",
              "              style=\"display:none;\">\n",
              "        \n",
              "  <svg xmlns=\"http://www.w3.org/2000/svg\" height=\"24px\"viewBox=\"0 0 24 24\"\n",
              "       width=\"24px\">\n",
              "    <path d=\"M0 0h24v24H0V0z\" fill=\"none\"/>\n",
              "    <path d=\"M18.56 5.44l.94 2.06.94-2.06 2.06-.94-2.06-.94-.94-2.06-.94 2.06-2.06.94zm-11 1L8.5 8.5l.94-2.06 2.06-.94-2.06-.94L8.5 2.5l-.94 2.06-2.06.94zm10 10l.94 2.06.94-2.06 2.06-.94-2.06-.94-.94-2.06-.94 2.06-2.06.94z\"/><path d=\"M17.41 7.96l-1.37-1.37c-.4-.4-.92-.59-1.43-.59-.52 0-1.04.2-1.43.59L10.3 9.45l-7.72 7.72c-.78.78-.78 2.05 0 2.83L4 21.41c.39.39.9.59 1.41.59.51 0 1.02-.2 1.41-.59l7.78-7.78 2.81-2.81c.8-.78.8-2.07 0-2.86zM5.41 20L4 18.59l7.72-7.72 1.47 1.35L5.41 20z\"/>\n",
              "  </svg>\n",
              "      </button>\n",
              "      \n",
              "  <style>\n",
              "    .colab-df-container {\n",
              "      display:flex;\n",
              "      flex-wrap:wrap;\n",
              "      gap: 12px;\n",
              "    }\n",
              "\n",
              "    .colab-df-convert {\n",
              "      background-color: #E8F0FE;\n",
              "      border: none;\n",
              "      border-radius: 50%;\n",
              "      cursor: pointer;\n",
              "      display: none;\n",
              "      fill: #1967D2;\n",
              "      height: 32px;\n",
              "      padding: 0 0 0 0;\n",
              "      width: 32px;\n",
              "    }\n",
              "\n",
              "    .colab-df-convert:hover {\n",
              "      background-color: #E2EBFA;\n",
              "      box-shadow: 0px 1px 2px rgba(60, 64, 67, 0.3), 0px 1px 3px 1px rgba(60, 64, 67, 0.15);\n",
              "      fill: #174EA6;\n",
              "    }\n",
              "\n",
              "    [theme=dark] .colab-df-convert {\n",
              "      background-color: #3B4455;\n",
              "      fill: #D2E3FC;\n",
              "    }\n",
              "\n",
              "    [theme=dark] .colab-df-convert:hover {\n",
              "      background-color: #434B5C;\n",
              "      box-shadow: 0px 1px 3px 1px rgba(0, 0, 0, 0.15);\n",
              "      filter: drop-shadow(0px 1px 2px rgba(0, 0, 0, 0.3));\n",
              "      fill: #FFFFFF;\n",
              "    }\n",
              "  </style>\n",
              "\n",
              "      <script>\n",
              "        const buttonEl =\n",
              "          document.querySelector('#df-7c559b5c-5340-479d-aad5-0d8f7d6e8d38 button.colab-df-convert');\n",
              "        buttonEl.style.display =\n",
              "          google.colab.kernel.accessAllowed ? 'block' : 'none';\n",
              "\n",
              "        async function convertToInteractive(key) {\n",
              "          const element = document.querySelector('#df-7c559b5c-5340-479d-aad5-0d8f7d6e8d38');\n",
              "          const dataTable =\n",
              "            await google.colab.kernel.invokeFunction('convertToInteractive',\n",
              "                                                     [key], {});\n",
              "          if (!dataTable) return;\n",
              "\n",
              "          const docLinkHtml = 'Like what you see? Visit the ' +\n",
              "            '<a target=\"_blank\" href=https://colab.research.google.com/notebooks/data_table.ipynb>data table notebook</a>'\n",
              "            + ' to learn more about interactive tables.';\n",
              "          element.innerHTML = '';\n",
              "          dataTable['output_type'] = 'display_data';\n",
              "          await google.colab.output.renderOutput(dataTable, element);\n",
              "          const docLink = document.createElement('div');\n",
              "          docLink.innerHTML = docLinkHtml;\n",
              "          element.appendChild(docLink);\n",
              "        }\n",
              "      </script>\n",
              "    </div>\n",
              "  </div>\n",
              "  "
            ]
          },
          "metadata": {},
          "execution_count": 50
        }
      ]
    },
    {
      "cell_type": "markdown",
      "source": [
        "## Crear un nuevo DataFrame con solo columnas numéricas\n",
        "\n",
        "La primer columna (Unnamed) es solo la numeracion de las filas del dataset, por lo que no sirven para el analisis. Además, latitud y longitud no son medidas numericas, como consecuecia, se van omitir en el análisis. Por lo que estariamos en presecia de datos de monto de transaccion, población y la variable objetivo, si es fraude o no."
      ],
      "metadata": {
        "id": "EtK_HF3x-kAL"
      }
    },
    {
      "cell_type": "code",
      "source": [
        "#Eliminando columna sin nombre\n",
        "creditcard.drop(\"Unnamed: 0\",axis=1,inplace=True)\n",
        "creditcard.head()"
      ],
      "metadata": {
        "colab": {
          "base_uri": "https://localhost:8080/",
          "height": 577
        },
        "id": "FHTt57cn-gJR",
        "outputId": "07705769-fe4b-44d2-f40a-317925d321fb"
      },
      "execution_count": null,
      "outputs": [
        {
          "output_type": "execute_result",
          "data": {
            "text/plain": [
              "  trans_date_trans_time        cc_num                            merchant  \\\n",
              "0         1/1/2019 0:00  2.703190e+15          fraud_Rippin, Kub and Mann   \n",
              "1         1/1/2019 0:00  6.304230e+11     fraud_Heller, Gutmann and Zieme   \n",
              "2         1/1/2019 0:00  3.885950e+13                fraud_Lind-Buckridge   \n",
              "3         1/1/2019 0:01  3.534090e+15  fraud_Kutch, Hermiston and Farrell   \n",
              "4         1/1/2019 0:03  3.755340e+14                 fraud_Keeling-Crist   \n",
              "\n",
              "        category     amt      first     last gender  \\\n",
              "0       misc_net    4.97   Jennifer    Banks      F   \n",
              "1    grocery_pos  107.23  Stephanie     Gill      F   \n",
              "2  entertainment  220.11     Edward  Sanchez      M   \n",
              "3  gas_transport   45.00     Jeremy    White      M   \n",
              "4       misc_pos   41.96      Tyler   Garcia      M   \n",
              "\n",
              "                         street            city  ...      lat      long  \\\n",
              "0                561 Perry Cove  Moravian Falls  ...  36.0788  -81.1781   \n",
              "1  43039 Riley Greens Suite 393          Orient  ...  48.8878 -118.2105   \n",
              "2      594 White Dale Suite 530      Malad City  ...  42.1808 -112.2620   \n",
              "3   9443 Cynthia Court Apt. 038         Boulder  ...  46.2306 -112.1138   \n",
              "4              408 Bradley Rest        Doe Hill  ...  38.4207  -79.4629   \n",
              "\n",
              "   city_pop                                job        dob  \\\n",
              "0      3495          Psychologist, counselling   3/9/1988   \n",
              "1       149  Special educational needs teacher  6/21/1978   \n",
              "2      4154        Nature conservation officer  1/19/1962   \n",
              "3      1939                    Patent attorney  1/12/1967   \n",
              "4        99     Dance movement psychotherapist  3/28/1986   \n",
              "\n",
              "                          trans_num   unix_time  merch_lat  merch_long  \\\n",
              "0  0b242abb623afc578575680df30655b9  1325376018  36.011293  -82.048315   \n",
              "1  1f76529f8574734946361c461b024d99  1325376044  49.159047 -118.186462   \n",
              "2  a1a22d70485983eac12b5b88dad1cf95  1325376051  43.150704 -112.154481   \n",
              "3  6b849c168bdad6f867558c3793159a81  1325376076  47.034331 -112.561071   \n",
              "4  a41d7549acf90789359a9aa5346dcb46  1325376186  38.674999  -78.632459   \n",
              "\n",
              "   is_fraud  \n",
              "0         0  \n",
              "1         0  \n",
              "2         0  \n",
              "3         0  \n",
              "4         0  \n",
              "\n",
              "[5 rows x 22 columns]"
            ],
            "text/html": [
              "\n",
              "  <div id=\"df-0c317318-7b5b-4228-a138-65a94db6e7fd\">\n",
              "    <div class=\"colab-df-container\">\n",
              "      <div>\n",
              "<style scoped>\n",
              "    .dataframe tbody tr th:only-of-type {\n",
              "        vertical-align: middle;\n",
              "    }\n",
              "\n",
              "    .dataframe tbody tr th {\n",
              "        vertical-align: top;\n",
              "    }\n",
              "\n",
              "    .dataframe thead th {\n",
              "        text-align: right;\n",
              "    }\n",
              "</style>\n",
              "<table border=\"1\" class=\"dataframe\">\n",
              "  <thead>\n",
              "    <tr style=\"text-align: right;\">\n",
              "      <th></th>\n",
              "      <th>trans_date_trans_time</th>\n",
              "      <th>cc_num</th>\n",
              "      <th>merchant</th>\n",
              "      <th>category</th>\n",
              "      <th>amt</th>\n",
              "      <th>first</th>\n",
              "      <th>last</th>\n",
              "      <th>gender</th>\n",
              "      <th>street</th>\n",
              "      <th>city</th>\n",
              "      <th>...</th>\n",
              "      <th>lat</th>\n",
              "      <th>long</th>\n",
              "      <th>city_pop</th>\n",
              "      <th>job</th>\n",
              "      <th>dob</th>\n",
              "      <th>trans_num</th>\n",
              "      <th>unix_time</th>\n",
              "      <th>merch_lat</th>\n",
              "      <th>merch_long</th>\n",
              "      <th>is_fraud</th>\n",
              "    </tr>\n",
              "  </thead>\n",
              "  <tbody>\n",
              "    <tr>\n",
              "      <th>0</th>\n",
              "      <td>1/1/2019 0:00</td>\n",
              "      <td>2.703190e+15</td>\n",
              "      <td>fraud_Rippin, Kub and Mann</td>\n",
              "      <td>misc_net</td>\n",
              "      <td>4.97</td>\n",
              "      <td>Jennifer</td>\n",
              "      <td>Banks</td>\n",
              "      <td>F</td>\n",
              "      <td>561 Perry Cove</td>\n",
              "      <td>Moravian Falls</td>\n",
              "      <td>...</td>\n",
              "      <td>36.0788</td>\n",
              "      <td>-81.1781</td>\n",
              "      <td>3495</td>\n",
              "      <td>Psychologist, counselling</td>\n",
              "      <td>3/9/1988</td>\n",
              "      <td>0b242abb623afc578575680df30655b9</td>\n",
              "      <td>1325376018</td>\n",
              "      <td>36.011293</td>\n",
              "      <td>-82.048315</td>\n",
              "      <td>0</td>\n",
              "    </tr>\n",
              "    <tr>\n",
              "      <th>1</th>\n",
              "      <td>1/1/2019 0:00</td>\n",
              "      <td>6.304230e+11</td>\n",
              "      <td>fraud_Heller, Gutmann and Zieme</td>\n",
              "      <td>grocery_pos</td>\n",
              "      <td>107.23</td>\n",
              "      <td>Stephanie</td>\n",
              "      <td>Gill</td>\n",
              "      <td>F</td>\n",
              "      <td>43039 Riley Greens Suite 393</td>\n",
              "      <td>Orient</td>\n",
              "      <td>...</td>\n",
              "      <td>48.8878</td>\n",
              "      <td>-118.2105</td>\n",
              "      <td>149</td>\n",
              "      <td>Special educational needs teacher</td>\n",
              "      <td>6/21/1978</td>\n",
              "      <td>1f76529f8574734946361c461b024d99</td>\n",
              "      <td>1325376044</td>\n",
              "      <td>49.159047</td>\n",
              "      <td>-118.186462</td>\n",
              "      <td>0</td>\n",
              "    </tr>\n",
              "    <tr>\n",
              "      <th>2</th>\n",
              "      <td>1/1/2019 0:00</td>\n",
              "      <td>3.885950e+13</td>\n",
              "      <td>fraud_Lind-Buckridge</td>\n",
              "      <td>entertainment</td>\n",
              "      <td>220.11</td>\n",
              "      <td>Edward</td>\n",
              "      <td>Sanchez</td>\n",
              "      <td>M</td>\n",
              "      <td>594 White Dale Suite 530</td>\n",
              "      <td>Malad City</td>\n",
              "      <td>...</td>\n",
              "      <td>42.1808</td>\n",
              "      <td>-112.2620</td>\n",
              "      <td>4154</td>\n",
              "      <td>Nature conservation officer</td>\n",
              "      <td>1/19/1962</td>\n",
              "      <td>a1a22d70485983eac12b5b88dad1cf95</td>\n",
              "      <td>1325376051</td>\n",
              "      <td>43.150704</td>\n",
              "      <td>-112.154481</td>\n",
              "      <td>0</td>\n",
              "    </tr>\n",
              "    <tr>\n",
              "      <th>3</th>\n",
              "      <td>1/1/2019 0:01</td>\n",
              "      <td>3.534090e+15</td>\n",
              "      <td>fraud_Kutch, Hermiston and Farrell</td>\n",
              "      <td>gas_transport</td>\n",
              "      <td>45.00</td>\n",
              "      <td>Jeremy</td>\n",
              "      <td>White</td>\n",
              "      <td>M</td>\n",
              "      <td>9443 Cynthia Court Apt. 038</td>\n",
              "      <td>Boulder</td>\n",
              "      <td>...</td>\n",
              "      <td>46.2306</td>\n",
              "      <td>-112.1138</td>\n",
              "      <td>1939</td>\n",
              "      <td>Patent attorney</td>\n",
              "      <td>1/12/1967</td>\n",
              "      <td>6b849c168bdad6f867558c3793159a81</td>\n",
              "      <td>1325376076</td>\n",
              "      <td>47.034331</td>\n",
              "      <td>-112.561071</td>\n",
              "      <td>0</td>\n",
              "    </tr>\n",
              "    <tr>\n",
              "      <th>4</th>\n",
              "      <td>1/1/2019 0:03</td>\n",
              "      <td>3.755340e+14</td>\n",
              "      <td>fraud_Keeling-Crist</td>\n",
              "      <td>misc_pos</td>\n",
              "      <td>41.96</td>\n",
              "      <td>Tyler</td>\n",
              "      <td>Garcia</td>\n",
              "      <td>M</td>\n",
              "      <td>408 Bradley Rest</td>\n",
              "      <td>Doe Hill</td>\n",
              "      <td>...</td>\n",
              "      <td>38.4207</td>\n",
              "      <td>-79.4629</td>\n",
              "      <td>99</td>\n",
              "      <td>Dance movement psychotherapist</td>\n",
              "      <td>3/28/1986</td>\n",
              "      <td>a41d7549acf90789359a9aa5346dcb46</td>\n",
              "      <td>1325376186</td>\n",
              "      <td>38.674999</td>\n",
              "      <td>-78.632459</td>\n",
              "      <td>0</td>\n",
              "    </tr>\n",
              "  </tbody>\n",
              "</table>\n",
              "<p>5 rows × 22 columns</p>\n",
              "</div>\n",
              "      <button class=\"colab-df-convert\" onclick=\"convertToInteractive('df-0c317318-7b5b-4228-a138-65a94db6e7fd')\"\n",
              "              title=\"Convert this dataframe to an interactive table.\"\n",
              "              style=\"display:none;\">\n",
              "        \n",
              "  <svg xmlns=\"http://www.w3.org/2000/svg\" height=\"24px\"viewBox=\"0 0 24 24\"\n",
              "       width=\"24px\">\n",
              "    <path d=\"M0 0h24v24H0V0z\" fill=\"none\"/>\n",
              "    <path d=\"M18.56 5.44l.94 2.06.94-2.06 2.06-.94-2.06-.94-.94-2.06-.94 2.06-2.06.94zm-11 1L8.5 8.5l.94-2.06 2.06-.94-2.06-.94L8.5 2.5l-.94 2.06-2.06.94zm10 10l.94 2.06.94-2.06 2.06-.94-2.06-.94-.94-2.06-.94 2.06-2.06.94z\"/><path d=\"M17.41 7.96l-1.37-1.37c-.4-.4-.92-.59-1.43-.59-.52 0-1.04.2-1.43.59L10.3 9.45l-7.72 7.72c-.78.78-.78 2.05 0 2.83L4 21.41c.39.39.9.59 1.41.59.51 0 1.02-.2 1.41-.59l7.78-7.78 2.81-2.81c.8-.78.8-2.07 0-2.86zM5.41 20L4 18.59l7.72-7.72 1.47 1.35L5.41 20z\"/>\n",
              "  </svg>\n",
              "      </button>\n",
              "      \n",
              "  <style>\n",
              "    .colab-df-container {\n",
              "      display:flex;\n",
              "      flex-wrap:wrap;\n",
              "      gap: 12px;\n",
              "    }\n",
              "\n",
              "    .colab-df-convert {\n",
              "      background-color: #E8F0FE;\n",
              "      border: none;\n",
              "      border-radius: 50%;\n",
              "      cursor: pointer;\n",
              "      display: none;\n",
              "      fill: #1967D2;\n",
              "      height: 32px;\n",
              "      padding: 0 0 0 0;\n",
              "      width: 32px;\n",
              "    }\n",
              "\n",
              "    .colab-df-convert:hover {\n",
              "      background-color: #E2EBFA;\n",
              "      box-shadow: 0px 1px 2px rgba(60, 64, 67, 0.3), 0px 1px 3px 1px rgba(60, 64, 67, 0.15);\n",
              "      fill: #174EA6;\n",
              "    }\n",
              "\n",
              "    [theme=dark] .colab-df-convert {\n",
              "      background-color: #3B4455;\n",
              "      fill: #D2E3FC;\n",
              "    }\n",
              "\n",
              "    [theme=dark] .colab-df-convert:hover {\n",
              "      background-color: #434B5C;\n",
              "      box-shadow: 0px 1px 3px 1px rgba(0, 0, 0, 0.15);\n",
              "      filter: drop-shadow(0px 1px 2px rgba(0, 0, 0, 0.3));\n",
              "      fill: #FFFFFF;\n",
              "    }\n",
              "  </style>\n",
              "\n",
              "      <script>\n",
              "        const buttonEl =\n",
              "          document.querySelector('#df-0c317318-7b5b-4228-a138-65a94db6e7fd button.colab-df-convert');\n",
              "        buttonEl.style.display =\n",
              "          google.colab.kernel.accessAllowed ? 'block' : 'none';\n",
              "\n",
              "        async function convertToInteractive(key) {\n",
              "          const element = document.querySelector('#df-0c317318-7b5b-4228-a138-65a94db6e7fd');\n",
              "          const dataTable =\n",
              "            await google.colab.kernel.invokeFunction('convertToInteractive',\n",
              "                                                     [key], {});\n",
              "          if (!dataTable) return;\n",
              "\n",
              "          const docLinkHtml = 'Like what you see? Visit the ' +\n",
              "            '<a target=\"_blank\" href=https://colab.research.google.com/notebooks/data_table.ipynb>data table notebook</a>'\n",
              "            + ' to learn more about interactive tables.';\n",
              "          element.innerHTML = '';\n",
              "          dataTable['output_type'] = 'display_data';\n",
              "          await google.colab.output.renderOutput(dataTable, element);\n",
              "          const docLink = document.createElement('div');\n",
              "          docLink.innerHTML = docLinkHtml;\n",
              "          element.appendChild(docLink);\n",
              "        }\n",
              "      </script>\n",
              "    </div>\n",
              "  </div>\n",
              "  "
            ]
          },
          "metadata": {},
          "execution_count": 51
        }
      ]
    },
    {
      "cell_type": "code",
      "source": [
        "#Creando variable de edad a partir de fechas de transacción y fecha de nacimiento.\n",
        "creditcard['trans_date_trans_time']=pd.to_datetime(creditcard['trans_date_trans_time'])\n",
        "creditcard['trans_date']=creditcard['trans_date_trans_time'].dt.strftime('%Y-%m-%d')\n",
        "creditcard['trans_date']=pd.to_datetime(creditcard['trans_date'])\n",
        "creditcard['dob']=pd.to_datetime(creditcard['dob'])"
      ],
      "metadata": {
        "id": "EUxrdAqe_IeQ"
      },
      "execution_count": null,
      "outputs": []
    },
    {
      "cell_type": "code",
      "source": [
        "creditcard[\"age\"] = creditcard[\"trans_date_trans_time\"]-creditcard[\"dob\"]\n",
        "creditcard[\"age\"]=creditcard[\"age\"].astype('timedelta64[Y]')\n",
        "creditcard[\"age\"].head()"
      ],
      "metadata": {
        "colab": {
          "base_uri": "https://localhost:8080/"
        },
        "id": "LYIgcPaL_OLw",
        "outputId": "e108996c-f32e-4fa9-ea55-baeca22cb73a"
      },
      "execution_count": null,
      "outputs": [
        {
          "output_type": "execute_result",
          "data": {
            "text/plain": [
              "0    30.0\n",
              "1    40.0\n",
              "2    56.0\n",
              "3    51.0\n",
              "4    32.0\n",
              "Name: age, dtype: float64"
            ]
          },
          "metadata": {},
          "execution_count": 53
        }
      ]
    },
    {
      "cell_type": "code",
      "source": [
        "import random\n",
        "def randomcolor():\n",
        "    r = random.random()\n",
        "    b = random.random()\n",
        "    g = random.random()\n",
        "    rgb = [r,g,b]\n",
        "    return rgb"
      ],
      "metadata": {
        "id": "s_lhRd_KAlCQ"
      },
      "execution_count": null,
      "outputs": []
    },
    {
      "cell_type": "code",
      "source": [
        "#Creando columnas de mes y año de transacción\n",
        "\n",
        "creditcard['trans_month'] = pd.DatetimeIndex(creditcard['trans_date']).month\n",
        "creditcard['trans_year'] = pd.DatetimeIndex(creditcard['trans_date']).year\n",
        "import calendar\n",
        "creditcard['Month_name'] = creditcard['trans_month'].apply(lambda x: calendar.month_abbr[x])\n"
      ],
      "metadata": {
        "id": "82Hzacr6_T6f"
      },
      "execution_count": null,
      "outputs": []
    },
    {
      "cell_type": "code",
      "source": [
        "creditcard.describe()"
      ],
      "metadata": {
        "colab": {
          "base_uri": "https://localhost:8080/",
          "height": 300
        },
        "id": "jznl_R-m_XE8",
        "outputId": "1b43338a-8197-4b4f-887b-e0db5f18adf3"
      },
      "execution_count": null,
      "outputs": [
        {
          "output_type": "execute_result",
          "data": {
            "text/plain": [
              "             cc_num            amt            zip            lat  \\\n",
              "count  2.000010e+05  200001.000000  200001.000000  200001.000000   \n",
              "mean   4.195740e+17      71.122196   48797.818876      38.535025   \n",
              "std    1.311470e+18     144.445241   26864.172528       5.082839   \n",
              "min    6.041621e+10       1.000000    1257.000000      20.027100   \n",
              "25%    1.800360e+14       9.710000   26237.000000      34.620500   \n",
              "50%    3.519610e+15      47.960000   48174.000000      39.354300   \n",
              "75%    4.642260e+15      83.520000   72011.000000      41.940400   \n",
              "max    4.992350e+18   12788.070000   99783.000000      65.689900   \n",
              "\n",
              "                long      city_pop     unix_time      merch_lat  \\\n",
              "count  200001.000000  2.000010e+05  2.000010e+05  200001.000000   \n",
              "mean      -90.209092  8.880481e+04  1.343728e+09      38.536209   \n",
              "std        13.736120  3.018709e+05  1.587880e+07       5.115922   \n",
              "min      -165.672300  2.300000e+01  1.325376e+09      19.029798   \n",
              "25%       -96.790900  7.410000e+02  1.327877e+09      34.723916   \n",
              "50%       -87.476900  2.435000e+03  1.330444e+09      39.361998   \n",
              "75%       -80.158000  2.032800e+04  1.359547e+09      41.956494   \n",
              "max       -67.950300  2.906700e+06  1.362096e+09      66.659242   \n",
              "\n",
              "          merch_long       is_fraud            age    trans_month  \\\n",
              "count  200001.000000  200001.000000  200001.000000  200001.000000   \n",
              "mean      -90.210839       0.008345      45.259424       1.476403   \n",
              "std        13.749521       0.090969      17.387578       0.499514   \n",
              "min      -166.670132       0.000000      13.000000       1.000000   \n",
              "25%       -96.867821       0.000000      32.000000       1.000000   \n",
              "50%       -87.454358       0.000000      43.000000       1.000000   \n",
              "75%       -80.236912       0.000000      56.000000       2.000000   \n",
              "max       -66.950902       1.000000      95.000000       3.000000   \n",
              "\n",
              "          trans_year  \n",
              "count  200001.000000  \n",
              "mean     2019.499998  \n",
              "std         0.500001  \n",
              "min      2019.000000  \n",
              "25%      2019.000000  \n",
              "50%      2019.000000  \n",
              "75%      2020.000000  \n",
              "max      2020.000000  "
            ],
            "text/html": [
              "\n",
              "  <div id=\"df-8dfd9114-8a2a-4f87-98e2-43b925ac67ed\">\n",
              "    <div class=\"colab-df-container\">\n",
              "      <div>\n",
              "<style scoped>\n",
              "    .dataframe tbody tr th:only-of-type {\n",
              "        vertical-align: middle;\n",
              "    }\n",
              "\n",
              "    .dataframe tbody tr th {\n",
              "        vertical-align: top;\n",
              "    }\n",
              "\n",
              "    .dataframe thead th {\n",
              "        text-align: right;\n",
              "    }\n",
              "</style>\n",
              "<table border=\"1\" class=\"dataframe\">\n",
              "  <thead>\n",
              "    <tr style=\"text-align: right;\">\n",
              "      <th></th>\n",
              "      <th>cc_num</th>\n",
              "      <th>amt</th>\n",
              "      <th>zip</th>\n",
              "      <th>lat</th>\n",
              "      <th>long</th>\n",
              "      <th>city_pop</th>\n",
              "      <th>unix_time</th>\n",
              "      <th>merch_lat</th>\n",
              "      <th>merch_long</th>\n",
              "      <th>is_fraud</th>\n",
              "      <th>age</th>\n",
              "      <th>trans_month</th>\n",
              "      <th>trans_year</th>\n",
              "    </tr>\n",
              "  </thead>\n",
              "  <tbody>\n",
              "    <tr>\n",
              "      <th>count</th>\n",
              "      <td>2.000010e+05</td>\n",
              "      <td>200001.000000</td>\n",
              "      <td>200001.000000</td>\n",
              "      <td>200001.000000</td>\n",
              "      <td>200001.000000</td>\n",
              "      <td>2.000010e+05</td>\n",
              "      <td>2.000010e+05</td>\n",
              "      <td>200001.000000</td>\n",
              "      <td>200001.000000</td>\n",
              "      <td>200001.000000</td>\n",
              "      <td>200001.000000</td>\n",
              "      <td>200001.000000</td>\n",
              "      <td>200001.000000</td>\n",
              "    </tr>\n",
              "    <tr>\n",
              "      <th>mean</th>\n",
              "      <td>4.195740e+17</td>\n",
              "      <td>71.122196</td>\n",
              "      <td>48797.818876</td>\n",
              "      <td>38.535025</td>\n",
              "      <td>-90.209092</td>\n",
              "      <td>8.880481e+04</td>\n",
              "      <td>1.343728e+09</td>\n",
              "      <td>38.536209</td>\n",
              "      <td>-90.210839</td>\n",
              "      <td>0.008345</td>\n",
              "      <td>45.259424</td>\n",
              "      <td>1.476403</td>\n",
              "      <td>2019.499998</td>\n",
              "    </tr>\n",
              "    <tr>\n",
              "      <th>std</th>\n",
              "      <td>1.311470e+18</td>\n",
              "      <td>144.445241</td>\n",
              "      <td>26864.172528</td>\n",
              "      <td>5.082839</td>\n",
              "      <td>13.736120</td>\n",
              "      <td>3.018709e+05</td>\n",
              "      <td>1.587880e+07</td>\n",
              "      <td>5.115922</td>\n",
              "      <td>13.749521</td>\n",
              "      <td>0.090969</td>\n",
              "      <td>17.387578</td>\n",
              "      <td>0.499514</td>\n",
              "      <td>0.500001</td>\n",
              "    </tr>\n",
              "    <tr>\n",
              "      <th>min</th>\n",
              "      <td>6.041621e+10</td>\n",
              "      <td>1.000000</td>\n",
              "      <td>1257.000000</td>\n",
              "      <td>20.027100</td>\n",
              "      <td>-165.672300</td>\n",
              "      <td>2.300000e+01</td>\n",
              "      <td>1.325376e+09</td>\n",
              "      <td>19.029798</td>\n",
              "      <td>-166.670132</td>\n",
              "      <td>0.000000</td>\n",
              "      <td>13.000000</td>\n",
              "      <td>1.000000</td>\n",
              "      <td>2019.000000</td>\n",
              "    </tr>\n",
              "    <tr>\n",
              "      <th>25%</th>\n",
              "      <td>1.800360e+14</td>\n",
              "      <td>9.710000</td>\n",
              "      <td>26237.000000</td>\n",
              "      <td>34.620500</td>\n",
              "      <td>-96.790900</td>\n",
              "      <td>7.410000e+02</td>\n",
              "      <td>1.327877e+09</td>\n",
              "      <td>34.723916</td>\n",
              "      <td>-96.867821</td>\n",
              "      <td>0.000000</td>\n",
              "      <td>32.000000</td>\n",
              "      <td>1.000000</td>\n",
              "      <td>2019.000000</td>\n",
              "    </tr>\n",
              "    <tr>\n",
              "      <th>50%</th>\n",
              "      <td>3.519610e+15</td>\n",
              "      <td>47.960000</td>\n",
              "      <td>48174.000000</td>\n",
              "      <td>39.354300</td>\n",
              "      <td>-87.476900</td>\n",
              "      <td>2.435000e+03</td>\n",
              "      <td>1.330444e+09</td>\n",
              "      <td>39.361998</td>\n",
              "      <td>-87.454358</td>\n",
              "      <td>0.000000</td>\n",
              "      <td>43.000000</td>\n",
              "      <td>1.000000</td>\n",
              "      <td>2019.000000</td>\n",
              "    </tr>\n",
              "    <tr>\n",
              "      <th>75%</th>\n",
              "      <td>4.642260e+15</td>\n",
              "      <td>83.520000</td>\n",
              "      <td>72011.000000</td>\n",
              "      <td>41.940400</td>\n",
              "      <td>-80.158000</td>\n",
              "      <td>2.032800e+04</td>\n",
              "      <td>1.359547e+09</td>\n",
              "      <td>41.956494</td>\n",
              "      <td>-80.236912</td>\n",
              "      <td>0.000000</td>\n",
              "      <td>56.000000</td>\n",
              "      <td>2.000000</td>\n",
              "      <td>2020.000000</td>\n",
              "    </tr>\n",
              "    <tr>\n",
              "      <th>max</th>\n",
              "      <td>4.992350e+18</td>\n",
              "      <td>12788.070000</td>\n",
              "      <td>99783.000000</td>\n",
              "      <td>65.689900</td>\n",
              "      <td>-67.950300</td>\n",
              "      <td>2.906700e+06</td>\n",
              "      <td>1.362096e+09</td>\n",
              "      <td>66.659242</td>\n",
              "      <td>-66.950902</td>\n",
              "      <td>1.000000</td>\n",
              "      <td>95.000000</td>\n",
              "      <td>3.000000</td>\n",
              "      <td>2020.000000</td>\n",
              "    </tr>\n",
              "  </tbody>\n",
              "</table>\n",
              "</div>\n",
              "      <button class=\"colab-df-convert\" onclick=\"convertToInteractive('df-8dfd9114-8a2a-4f87-98e2-43b925ac67ed')\"\n",
              "              title=\"Convert this dataframe to an interactive table.\"\n",
              "              style=\"display:none;\">\n",
              "        \n",
              "  <svg xmlns=\"http://www.w3.org/2000/svg\" height=\"24px\"viewBox=\"0 0 24 24\"\n",
              "       width=\"24px\">\n",
              "    <path d=\"M0 0h24v24H0V0z\" fill=\"none\"/>\n",
              "    <path d=\"M18.56 5.44l.94 2.06.94-2.06 2.06-.94-2.06-.94-.94-2.06-.94 2.06-2.06.94zm-11 1L8.5 8.5l.94-2.06 2.06-.94-2.06-.94L8.5 2.5l-.94 2.06-2.06.94zm10 10l.94 2.06.94-2.06 2.06-.94-2.06-.94-.94-2.06-.94 2.06-2.06.94z\"/><path d=\"M17.41 7.96l-1.37-1.37c-.4-.4-.92-.59-1.43-.59-.52 0-1.04.2-1.43.59L10.3 9.45l-7.72 7.72c-.78.78-.78 2.05 0 2.83L4 21.41c.39.39.9.59 1.41.59.51 0 1.02-.2 1.41-.59l7.78-7.78 2.81-2.81c.8-.78.8-2.07 0-2.86zM5.41 20L4 18.59l7.72-7.72 1.47 1.35L5.41 20z\"/>\n",
              "  </svg>\n",
              "      </button>\n",
              "      \n",
              "  <style>\n",
              "    .colab-df-container {\n",
              "      display:flex;\n",
              "      flex-wrap:wrap;\n",
              "      gap: 12px;\n",
              "    }\n",
              "\n",
              "    .colab-df-convert {\n",
              "      background-color: #E8F0FE;\n",
              "      border: none;\n",
              "      border-radius: 50%;\n",
              "      cursor: pointer;\n",
              "      display: none;\n",
              "      fill: #1967D2;\n",
              "      height: 32px;\n",
              "      padding: 0 0 0 0;\n",
              "      width: 32px;\n",
              "    }\n",
              "\n",
              "    .colab-df-convert:hover {\n",
              "      background-color: #E2EBFA;\n",
              "      box-shadow: 0px 1px 2px rgba(60, 64, 67, 0.3), 0px 1px 3px 1px rgba(60, 64, 67, 0.15);\n",
              "      fill: #174EA6;\n",
              "    }\n",
              "\n",
              "    [theme=dark] .colab-df-convert {\n",
              "      background-color: #3B4455;\n",
              "      fill: #D2E3FC;\n",
              "    }\n",
              "\n",
              "    [theme=dark] .colab-df-convert:hover {\n",
              "      background-color: #434B5C;\n",
              "      box-shadow: 0px 1px 3px 1px rgba(0, 0, 0, 0.15);\n",
              "      filter: drop-shadow(0px 1px 2px rgba(0, 0, 0, 0.3));\n",
              "      fill: #FFFFFF;\n",
              "    }\n",
              "  </style>\n",
              "\n",
              "      <script>\n",
              "        const buttonEl =\n",
              "          document.querySelector('#df-8dfd9114-8a2a-4f87-98e2-43b925ac67ed button.colab-df-convert');\n",
              "        buttonEl.style.display =\n",
              "          google.colab.kernel.accessAllowed ? 'block' : 'none';\n",
              "\n",
              "        async function convertToInteractive(key) {\n",
              "          const element = document.querySelector('#df-8dfd9114-8a2a-4f87-98e2-43b925ac67ed');\n",
              "          const dataTable =\n",
              "            await google.colab.kernel.invokeFunction('convertToInteractive',\n",
              "                                                     [key], {});\n",
              "          if (!dataTable) return;\n",
              "\n",
              "          const docLinkHtml = 'Like what you see? Visit the ' +\n",
              "            '<a target=\"_blank\" href=https://colab.research.google.com/notebooks/data_table.ipynb>data table notebook</a>'\n",
              "            + ' to learn more about interactive tables.';\n",
              "          element.innerHTML = '';\n",
              "          dataTable['output_type'] = 'display_data';\n",
              "          await google.colab.output.renderOutput(dataTable, element);\n",
              "          const docLink = document.createElement('div');\n",
              "          docLink.innerHTML = docLinkHtml;\n",
              "          element.appendChild(docLink);\n",
              "        }\n",
              "      </script>\n",
              "    </div>\n",
              "  </div>\n",
              "  "
            ]
          },
          "metadata": {},
          "execution_count": 56
        }
      ]
    },
    {
      "cell_type": "code",
      "source": [
        "plt.rcParams.update({'font.size': 10})\n",
        "skewness = str(skew(creditcard['amt']))\n",
        "kurtosis = str(kurtosis(creditcard['amt'], fisher = False))\n",
        "sns.displot(creditcard['amt'], kde=True)\n",
        "plt.title(\"Skewness de amt\"+\" = \"+skewness +\"\\n\"+\"Kurtosis de amt\"+\" = \"+kurtosis)\n",
        "plt.show()\n",
        "sns.set(rc={'figure.figsize':(6,7)})"
      ],
      "metadata": {
        "colab": {
          "base_uri": "https://localhost:8080/",
          "height": 550
        },
        "id": "YEyDlb8NlgL4",
        "outputId": "b98989dd-36be-452c-ca2a-e583410f9564"
      },
      "execution_count": null,
      "outputs": [
        {
          "output_type": "display_data",
          "data": {
            "text/plain": [
              "<Figure size 500x500 with 1 Axes>"
            ],
            "image/png": "[encoded data removed]"
          },
          "metadata": {}
        }
      ]
    },
    {
      "cell_type": "code",
      "source": [
        "kurtosis(creditcard['amt'], fisher = False)"
      ],
      "metadata": {
        "colab": {
          "base_uri": "https://localhost:8080/"
        },
        "id": "Fr_vF2QgwUSO",
        "outputId": "9a05a483-64f9-4c3f-cc9d-b8a26a4adeab"
      },
      "execution_count": null,
      "outputs": [
        {
          "output_type": "execute_result",
          "data": {
            "text/plain": [
              "1452.0479777746891"
            ]
          },
          "metadata": {},
          "execution_count": 69
        }
      ]
    },
    {
      "cell_type": "code",
      "source": [
        "creditcard['amt'].describe()"
      ],
      "metadata": {
        "colab": {
          "base_uri": "https://localhost:8080/"
        },
        "id": "5GE3Cgpwzpin",
        "outputId": "e779774b-0c35-4c8a-a9dc-c57e9e33b1cd"
      },
      "execution_count": null,
      "outputs": [
        {
          "output_type": "execute_result",
          "data": {
            "text/plain": [
              "count    200001.000000\n",
              "mean         71.122196\n",
              "std         144.445241\n",
              "min           1.000000\n",
              "25%           9.710000\n",
              "50%          47.960000\n",
              "75%          83.520000\n",
              "max       12788.070000\n",
              "Name: amt, dtype: float64"
            ]
          },
          "metadata": {},
          "execution_count": 75
        }
      ]
    },
    {
      "cell_type": "code",
      "source": [
        "z_scores = np.abs(stats.zscore(creditcard['amt']))\n",
        "z_scores\n"
      ],
      "metadata": {
        "colab": {
          "base_uri": "https://localhost:8080/"
        },
        "id": "P_O3AZFH5kPP",
        "outputId": "521548a0-9679-483e-a119-e1e4591c69d8"
      },
      "execution_count": null,
      "outputs": [
        {
          "output_type": "execute_result",
          "data": {
            "text/plain": [
              "0         0.457975\n",
              "1         0.249976\n",
              "2         1.031451\n",
              "3         0.180845\n",
              "4         0.201892\n",
              "            ...   \n",
              "199996    0.176692\n",
              "199997    0.096176\n",
              "199998    0.437691\n",
              "199999    0.461091\n",
              "200000    0.074131\n",
              "Name: amt, Length: 200001, dtype: float64"
            ]
          },
          "metadata": {},
          "execution_count": 79
        }
      ]
    },
    {
      "cell_type": "code",
      "source": [
        "columnzscore = creditcard['amt'][(z_scores < 2)] #considero el 95%\n",
        "columnzscore.describe()"
      ],
      "metadata": {
        "colab": {
          "base_uri": "https://localhost:8080/"
        },
        "id": "gbH2aWR-5oGz",
        "outputId": "0ad0d5fe-0c2d-4d2d-ea1d-dd2542a718dd"
      },
      "execution_count": null,
      "outputs": [
        {
          "output_type": "execute_result",
          "data": {
            "text/plain": [
              "count    196031.000000\n",
              "mean         57.258558\n",
              "std          56.195248\n",
              "min           1.000000\n",
              "25%           9.520000\n",
              "50%          46.560000\n",
              "75%          80.690000\n",
              "max         360.010000\n",
              "Name: amt, dtype: float64"
            ]
          },
          "metadata": {},
          "execution_count": 82
        }
      ]
    },
    {
      "cell_type": "code",
      "source": [
        "columnzscore"
      ],
      "metadata": {
        "colab": {
          "base_uri": "https://localhost:8080/"
        },
        "id": "_H0j74lY6AOh",
        "outputId": "d4bc6a20-3ec6-4983-ac84-664e0e29c8ff"
      },
      "execution_count": null,
      "outputs": [
        {
          "output_type": "execute_result",
          "data": {
            "text/plain": [
              "0           4.97\n",
              "1         107.23\n",
              "2         220.11\n",
              "3          45.00\n",
              "4          41.96\n",
              "           ...  \n",
              "199996     45.60\n",
              "199997     57.23\n",
              "199998      7.90\n",
              "199999      4.52\n",
              "200000     81.83\n",
              "Name: amt, Length: 196031, dtype: float64"
            ]
          },
          "metadata": {},
          "execution_count": 83
        }
      ]
    },
    {
      "cell_type": "code",
      "source": [
        "sns.boxplot(creditcard['amt'], orient='h')"
      ],
      "metadata": {
        "colab": {
          "base_uri": "https://localhost:8080/",
          "height": 621
        },
        "id": "t2CykTIR6Fmx",
        "outputId": "a09c6b9a-2efa-428d-aad7-6c1a34a5f116"
      },
      "execution_count": null,
      "outputs": [
        {
          "output_type": "execute_result",
          "data": {
            "text/plain": [
              "<Axes: >"
            ]
          },
          "metadata": {},
          "execution_count": 84
        },
        {
          "output_type": "display_data",
          "data": {
            "text/plain": [
              "<Figure size 600x700 with 1 Axes>"
            ],
            "image/png": "[encoded data removed]"
          },
          "metadata": {}
        }
      ]
    },
    {
      "cell_type": "markdown",
      "source": [
        "**Interpretación:**\n",
        "\n",
        "La mayoría de las transacciones están limitadas dentro de un rango muy pequeño, aunque las transacciones de grandes sumas están  presentes, que probablemente sean transacciones fraudulentas.\n",
        "\n",
        "Por la asimetría que presenta Es un tipo de distribución donde las medidas se dispersan, a diferencia de los datos distribuidos simétricamente donde todas las medidas de tendencia central (media, mediana y moda) son iguales entre sí.\n",
        "La asimetría positiva extrema no es deseable para la distribución, ya que un alto nivel de asimetría puede causar resultados engañosos, pero es de esperar en este tipo de dataset donde solo una pequeña cantidad de los datos son fraude.\n",
        "Las herramientas de transformación de datos ayudan a acercar los datos sesgados a una distribución normal.\n",
        "\n",
        "---\n"
      ],
      "metadata": {
        "id": "9R2jEGIZUAzo"
      }
    },
    {
      "cell_type": "markdown",
      "source": [
        "\n",
        "\n",
        "---\n",
        "\n"
      ],
      "metadata": {
        "id": "2PbctHC0zts7"
      }
    },
    {
      "cell_type": "code",
      "source": [
        "plt.rcParams.update({'font.size': 10})\n",
        "skewness = str(skew(creditcard['city_pop']))\n",
        "sns.displot(creditcard['city_pop'], kde=True)\n",
        "plt.title(\"Skewness de poblacion\"+\" = \"+skewness)\n",
        "plt.show()\n",
        "sns.set(rc={'figure.figsize':(6,7)})"
      ],
      "metadata": {
        "colab": {
          "base_uri": "https://localhost:8080/",
          "height": 529
        },
        "id": "4NlV4RZ2LUlV",
        "outputId": "aa411b2d-9e90-461a-e91b-e632817a8389"
      },
      "execution_count": null,
      "outputs": [
        {
          "output_type": "display_data",
          "data": {
            "text/plain": [
              "<Figure size 500x500 with 1 Axes>"
            ],
            "image/png": "[encoded data removed]"
          },
          "metadata": {}
        }
      ]
    },
    {
      "cell_type": "code",
      "source": [
        "kurtosis(creditcard['city_pop'], fisher = False)"
      ],
      "metadata": {
        "colab": {
          "base_uri": "https://localhost:8080/"
        },
        "id": "_y-fj09jvDDF",
        "outputId": "7d18c57c-a221-4ec4-e678-5b80e98ad64c"
      },
      "execution_count": null,
      "outputs": [
        {
          "output_type": "execute_result",
          "data": {
            "text/plain": [
              "40.42384455228478"
            ]
          },
          "metadata": {},
          "execution_count": 67
        }
      ]
    },
    {
      "cell_type": "code",
      "source": [
        "creditcard['city_pop'].describe()"
      ],
      "metadata": {
        "colab": {
          "base_uri": "https://localhost:8080/"
        },
        "id": "HHns5s3Bzvbq",
        "outputId": "801ac421-5de7-4d49-a487-bb576a3997fd"
      },
      "execution_count": null,
      "outputs": [
        {
          "output_type": "execute_result",
          "data": {
            "text/plain": [
              "count    2.000010e+05\n",
              "mean     8.880481e+04\n",
              "std      3.018709e+05\n",
              "min      2.300000e+01\n",
              "25%      7.410000e+02\n",
              "50%      2.435000e+03\n",
              "75%      2.032800e+04\n",
              "max      2.906700e+06\n",
              "Name: city_pop, dtype: float64"
            ]
          },
          "metadata": {},
          "execution_count": 76
        }
      ]
    },
    {
      "cell_type": "code",
      "source": [
        "z_scores = np.abs(stats.zscore(creditcard['city_pop']))\n",
        "z_scores\n"
      ],
      "metadata": {
        "colab": {
          "base_uri": "https://localhost:8080/"
        },
        "id": "7klpCmDn7ZMw",
        "outputId": "116c24df-63b1-4512-9668-d1364b8e2774"
      },
      "execution_count": null,
      "outputs": [
        {
          "output_type": "execute_result",
          "data": {
            "text/plain": [
              "0         0.282604\n",
              "1         0.293689\n",
              "2         0.280421\n",
              "3         0.287759\n",
              "4         0.293854\n",
              "            ...   \n",
              "199996    0.283575\n",
              "199997    0.176784\n",
              "199998    0.134531\n",
              "199999    1.827492\n",
              "200000    0.290204\n",
              "Name: city_pop, Length: 200001, dtype: float64"
            ]
          },
          "metadata": {},
          "execution_count": 94
        }
      ]
    },
    {
      "cell_type": "code",
      "source": [
        "columnzscore = creditcard['city_pop'][(z_scores < 2)] #considero el 95%\n",
        "columnzscore.describe()\n"
      ],
      "metadata": {
        "colab": {
          "base_uri": "https://localhost:8080/"
        },
        "id": "lg9qxWuw7a_N",
        "outputId": "1a23bfef-942c-4c36-a37f-ef4557c1c7cb"
      },
      "execution_count": null,
      "outputs": [
        {
          "output_type": "execute_result",
          "data": {
            "text/plain": [
              "count    192240.000000\n",
              "mean      36553.649808\n",
              "std       97245.507483\n",
              "min          23.000000\n",
              "25%         722.000000\n",
              "50%        2263.000000\n",
              "75%       13983.000000\n",
              "max      687276.000000\n",
              "Name: city_pop, dtype: float64"
            ]
          },
          "metadata": {},
          "execution_count": 95
        }
      ]
    },
    {
      "cell_type": "code",
      "source": [
        "columnzscore"
      ],
      "metadata": {
        "colab": {
          "base_uri": "https://localhost:8080/"
        },
        "id": "hUEYLzuH7eZj",
        "outputId": "82f82de6-80c2-47a1-a847-643529c1f353"
      },
      "execution_count": null,
      "outputs": [
        {
          "output_type": "execute_result",
          "data": {
            "text/plain": [
              "0           3495\n",
              "1            149\n",
              "2           4154\n",
              "3           1939\n",
              "4             99\n",
              "           ...  \n",
              "199996      3202\n",
              "199997     35439\n",
              "199998     48194\n",
              "199999    640470\n",
              "200000      1201\n",
              "Name: city_pop, Length: 192240, dtype: int64"
            ]
          },
          "metadata": {},
          "execution_count": 96
        }
      ]
    },
    {
      "cell_type": "code",
      "source": [
        "sns.boxplot(creditcard['city_pop'], orient='h')"
      ],
      "metadata": {
        "colab": {
          "base_uri": "https://localhost:8080/",
          "height": 640
        },
        "id": "QHCNrO7M7f8j",
        "outputId": "f56020aa-c2b6-4230-9423-2a8bd01c27c0"
      },
      "execution_count": null,
      "outputs": [
        {
          "output_type": "execute_result",
          "data": {
            "text/plain": [
              "<Axes: >"
            ]
          },
          "metadata": {},
          "execution_count": 97
        },
        {
          "output_type": "display_data",
          "data": {
            "text/plain": [
              "<Figure size 600x700 with 1 Axes>"
            ],
            "image/png": "[encoded data removed]"
          },
          "metadata": {}
        }
      ]
    },
    {
      "cell_type": "markdown",
      "source": [
        "\n",
        "\n",
        "---\n",
        "\n"
      ],
      "metadata": {
        "id": "Ds9ltjJNz0XN"
      }
    },
    {
      "cell_type": "code",
      "source": [
        "plt.rcParams.update({'font.size': 10})\n",
        "skewness = str(skew(creditcard['is_fraud']))\n",
        "sns.displot(creditcard['is_fraud'], kde=True)\n",
        "plt.title(\"Skewness de fraudes\"+\" = \"+skewness)\n",
        "plt.show()\n",
        "sns.set(rc={'figure.figsize':(6,7)})"
      ],
      "metadata": {
        "colab": {
          "base_uri": "https://localhost:8080/",
          "height": 529
        },
        "id": "UvEH3ROtLpNh",
        "outputId": "38c0b502-68bd-4d72-a9d9-e1b2915f3126"
      },
      "execution_count": null,
      "outputs": [
        {
          "output_type": "display_data",
          "data": {
            "text/plain": [
              "<Figure size 500x500 with 1 Axes>"
            ],
            "image/png": "[encoded data removed]"
          },
          "metadata": {}
        }
      ]
    },
    {
      "cell_type": "code",
      "source": [
        "kurtosis(creditcard['is_fraud'], fisher = False)"
      ],
      "metadata": {
        "colab": {
          "base_uri": "https://localhost:8080/"
        },
        "id": "HgPKzrM5wmag",
        "outputId": "8687c0d3-97b1-4931-948a-b34d2a1e3280"
      },
      "execution_count": null,
      "outputs": [
        {
          "output_type": "execute_result",
          "data": {
            "text/plain": [
              "117.84124921497781"
            ]
          },
          "metadata": {},
          "execution_count": 71
        }
      ]
    },
    {
      "cell_type": "code",
      "source": [
        "creditcard['is_fraud'].describe()"
      ],
      "metadata": {
        "colab": {
          "base_uri": "https://localhost:8080/"
        },
        "id": "-qXJBDnK6qAA",
        "outputId": "ace1e909-6ace-4de2-fd04-67ba10833524"
      },
      "execution_count": null,
      "outputs": [
        {
          "output_type": "execute_result",
          "data": {
            "text/plain": [
              "count    200001.000000\n",
              "mean          0.008345\n",
              "std           0.090969\n",
              "min           0.000000\n",
              "25%           0.000000\n",
              "50%           0.000000\n",
              "75%           0.000000\n",
              "max           1.000000\n",
              "Name: is_fraud, dtype: float64"
            ]
          },
          "metadata": {},
          "execution_count": 85
        }
      ]
    },
    {
      "cell_type": "code",
      "source": [
        "z_scores = np.abs(stats.zscore(creditcard['is_fraud']))\n",
        "z_scores\n"
      ],
      "metadata": {
        "colab": {
          "base_uri": "https://localhost:8080/"
        },
        "id": "XYHh-6QE6sr4",
        "outputId": "7d058e09-a3e7-4066-d5d0-16736d91f64b"
      },
      "execution_count": null,
      "outputs": [
        {
          "output_type": "execute_result",
          "data": {
            "text/plain": [
              "0         0.091734\n",
              "1         0.091734\n",
              "2         0.091734\n",
              "3         0.091734\n",
              "4         0.091734\n",
              "            ...   \n",
              "199996    0.091734\n",
              "199997    0.091734\n",
              "199998    0.091734\n",
              "199999    0.091734\n",
              "200000    0.091734\n",
              "Name: is_fraud, Length: 200001, dtype: float64"
            ]
          },
          "metadata": {},
          "execution_count": 86
        }
      ]
    },
    {
      "cell_type": "code",
      "source": [
        "columnzscore = creditcard['is_fraud'][(z_scores < 2)] #considero el 95%\n",
        "columnzscore.describe()\n"
      ],
      "metadata": {
        "colab": {
          "base_uri": "https://localhost:8080/"
        },
        "id": "RF2rrv5Q6xHu",
        "outputId": "fbb054ca-1255-4098-a393-e4759fe26f12"
      },
      "execution_count": null,
      "outputs": [
        {
          "output_type": "execute_result",
          "data": {
            "text/plain": [
              "count    198332.0\n",
              "mean          0.0\n",
              "std           0.0\n",
              "min           0.0\n",
              "25%           0.0\n",
              "50%           0.0\n",
              "75%           0.0\n",
              "max           0.0\n",
              "Name: is_fraud, dtype: float64"
            ]
          },
          "metadata": {},
          "execution_count": 87
        }
      ]
    },
    {
      "cell_type": "code",
      "source": [
        "columnzscore"
      ],
      "metadata": {
        "colab": {
          "base_uri": "https://localhost:8080/"
        },
        "id": "1MnV9eSl6zqy",
        "outputId": "4393e142-d23c-4ab2-80b8-2503b1871116"
      },
      "execution_count": null,
      "outputs": [
        {
          "output_type": "execute_result",
          "data": {
            "text/plain": [
              "0         0\n",
              "1         0\n",
              "2         0\n",
              "3         0\n",
              "4         0\n",
              "         ..\n",
              "199996    0\n",
              "199997    0\n",
              "199998    0\n",
              "199999    0\n",
              "200000    0\n",
              "Name: is_fraud, Length: 198332, dtype: int64"
            ]
          },
          "metadata": {},
          "execution_count": 88
        }
      ]
    },
    {
      "cell_type": "code",
      "source": [
        "sns.boxplot(creditcard['is_fraud'], orient='h')"
      ],
      "metadata": {
        "colab": {
          "base_uri": "https://localhost:8080/",
          "height": 621
        },
        "id": "jcSXTUsy616X",
        "outputId": "3d4af867-ff87-40ad-cf23-47fc6f22c29b"
      },
      "execution_count": null,
      "outputs": [
        {
          "output_type": "execute_result",
          "data": {
            "text/plain": [
              "<Axes: >"
            ]
          },
          "metadata": {},
          "execution_count": 89
        },
        {
          "output_type": "display_data",
          "data": {
            "text/plain": [
              "<Figure size 600x700 with 1 Axes>"
            ],
            "image/png": "[encoded data removed]"
          },
          "metadata": {}
        }
      ]
    },
    {
      "cell_type": "markdown",
      "source": [
        "\n",
        "\n",
        "---\n",
        "\n"
      ],
      "metadata": {
        "id": "av2zTh5az5yp"
      }
    },
    {
      "cell_type": "code",
      "source": [
        "plt.rcParams.update({'font.size': 10})\n",
        "skewness = str(skew(creditcard['age']))\n",
        "sns.displot(creditcard['age'], kde=True)\n",
        "plt.title(\"Skewness de edades\"+\" = \"+skewness)\n",
        "plt.show()\n",
        "sns.set(rc={'figure.figsize':(6,7)})"
      ],
      "metadata": {
        "colab": {
          "base_uri": "https://localhost:8080/",
          "height": 529
        },
        "id": "BUt7kKU6ZlTX",
        "outputId": "f6c1e974-f6a1-4b59-e117-498abe8c0bea"
      },
      "execution_count": null,
      "outputs": [
        {
          "output_type": "display_data",
          "data": {
            "text/plain": [
              "<Figure size 500x500 with 1 Axes>"
            ],
            "image/png": "[encoded data removed]"
          },
          "metadata": {}
        }
      ]
    },
    {
      "cell_type": "code",
      "source": [
        "kurtosis(creditcard['age'], fisher = False)"
      ],
      "metadata": {
        "colab": {
          "base_uri": "https://localhost:8080/"
        },
        "id": "Kgjf4frqwsux",
        "outputId": "99b8ae0f-32a3-4cf2-901e-43215242b65a"
      },
      "execution_count": null,
      "outputs": [
        {
          "output_type": "execute_result",
          "data": {
            "text/plain": [
              "2.8247935954959167"
            ]
          },
          "metadata": {},
          "execution_count": 74
        }
      ]
    },
    {
      "cell_type": "code",
      "source": [
        "creditcard['age'].describe()"
      ],
      "metadata": {
        "colab": {
          "base_uri": "https://localhost:8080/"
        },
        "id": "xqr4oZLgz8xa",
        "outputId": "5a35da27-adce-4dfc-f9b4-8f05adf3a97f"
      },
      "execution_count": null,
      "outputs": [
        {
          "output_type": "execute_result",
          "data": {
            "text/plain": [
              "count    200001.000000\n",
              "mean         45.259424\n",
              "std          17.387578\n",
              "min          13.000000\n",
              "25%          32.000000\n",
              "50%          43.000000\n",
              "75%          56.000000\n",
              "max          95.000000\n",
              "Name: age, dtype: float64"
            ]
          },
          "metadata": {},
          "execution_count": 78
        }
      ]
    },
    {
      "cell_type": "code",
      "source": [
        "z_scores = np.abs(stats.zscore(creditcard['age']))\n",
        "z_scores\n"
      ],
      "metadata": {
        "colab": {
          "base_uri": "https://localhost:8080/"
        },
        "id": "hTRDVIcK7LuN",
        "outputId": "e6620a32-58fa-4f3b-ba12-52174cec2d73"
      },
      "execution_count": null,
      "outputs": [
        {
          "output_type": "execute_result",
          "data": {
            "text/plain": [
              "0         0.877607\n",
              "1         0.302482\n",
              "2         0.617717\n",
              "3         0.330155\n",
              "4         0.762582\n",
              "            ...   \n",
              "199996    1.395219\n",
              "199997    0.647557\n",
              "199998    0.935120\n",
              "199999    0.445180\n",
              "200000    0.302482\n",
              "Name: age, Length: 200001, dtype: float64"
            ]
          },
          "metadata": {},
          "execution_count": 90
        }
      ]
    },
    {
      "cell_type": "code",
      "source": [
        "columnzscore = creditcard['age'][(z_scores < 2)] #considero el 95%\n",
        "columnzscore.describe()\n"
      ],
      "metadata": {
        "colab": {
          "base_uri": "https://localhost:8080/"
        },
        "id": "TL3fu3Ni7OOE",
        "outputId": "3c3158f6-5fb2-465c-9068-202b95618ecc"
      },
      "execution_count": null,
      "outputs": [
        {
          "output_type": "execute_result",
          "data": {
            "text/plain": [
              "count    191359.000000\n",
              "mean         43.367968\n",
              "std          15.249277\n",
              "min          13.000000\n",
              "25%          31.000000\n",
              "50%          42.000000\n",
              "75%          54.000000\n",
              "max          80.000000\n",
              "Name: age, dtype: float64"
            ]
          },
          "metadata": {},
          "execution_count": 91
        }
      ]
    },
    {
      "cell_type": "code",
      "source": [
        "columnzscore"
      ],
      "metadata": {
        "colab": {
          "base_uri": "https://localhost:8080/"
        },
        "id": "rV76Xl8O7QdL",
        "outputId": "fdbd0daa-e2a5-4644-aeb0-30995e21d2b8"
      },
      "execution_count": null,
      "outputs": [
        {
          "output_type": "execute_result",
          "data": {
            "text/plain": [
              "0         30.0\n",
              "1         40.0\n",
              "2         56.0\n",
              "3         51.0\n",
              "4         32.0\n",
              "          ... \n",
              "199996    21.0\n",
              "199997    34.0\n",
              "199998    29.0\n",
              "199999    53.0\n",
              "200000    40.0\n",
              "Name: age, Length: 191359, dtype: float64"
            ]
          },
          "metadata": {},
          "execution_count": 92
        }
      ]
    },
    {
      "cell_type": "code",
      "source": [
        "sns.boxplot(creditcard['age'], orient='h')"
      ],
      "metadata": {
        "colab": {
          "base_uri": "https://localhost:8080/",
          "height": 621
        },
        "id": "DoMVlIt97R1b",
        "outputId": "3a924033-f8e2-4d52-d9e3-ef85176248e1"
      },
      "execution_count": null,
      "outputs": [
        {
          "output_type": "execute_result",
          "data": {
            "text/plain": [
              "<Axes: >"
            ]
          },
          "metadata": {},
          "execution_count": 93
        },
        {
          "output_type": "display_data",
          "data": {
            "text/plain": [
              "<Figure size 600x700 with 1 Axes>"
            ],
            "image/png": "[encoded data removed]"
          },
          "metadata": {}
        }
      ]
    },
    {
      "cell_type": "markdown",
      "source": [
        "Ciertas columnas numéricas no son necesarias para el modelado y, por lo tanto, pueden eliminarse.\n",
        "\n",
        "Además, muchos de los datos están muy sesgados.\n",
        "\n",
        "Un indicativo de esto es que la proporción de transacciones sin fraude es mucho mayor que las transacciones fraudulentas, por lo que estamos viendo un conjunto de datos desequilibrado."
      ],
      "metadata": {
        "id": "4WC-joXLWaYQ"
      }
    },
    {
      "cell_type": "code",
      "source": [
        "plt.figure(figsize=(8,5))\n",
        "ax = sns.countplot(x=\"is_fraud\", data=creditcard,color=randomcolor())\n",
        "for p in ax.patches:\n",
        "     ax.annotate('{:.1f}'.format(p.get_height()), (p.get_x()+0.25, p.get_height()+0.01))\n",
        "plt.show()"
      ],
      "metadata": {
        "colab": {
          "base_uri": "https://localhost:8080/",
          "height": 474
        },
        "id": "Jbusl5kxeD4c",
        "outputId": "8a273757-3e91-49ed-ef7c-4caa208da34e"
      },
      "execution_count": null,
      "outputs": [
        {
          "output_type": "display_data",
          "data": {
            "text/plain": [
              "<Figure size 800x500 with 1 Axes>"
            ],
            "image/png": "[encoded data removed]"
          },
          "metadata": {}
        }
      ]
    },
    {
      "cell_type": "code",
      "source": [
        "def IQR_method (df,n,features):\n",
        "    \"\"\"\n",
        "    Takes a dataframe and returns an index list corresponding to the observations\n",
        "    containing more than n outliers according to the Tukey IQR method.\n",
        "    \"\"\"\n",
        "    outlier_list = []\n",
        "\n",
        "    for column in features:\n",
        "        # 1st quartile (25%)\n",
        "        Q1 = np.percentile(df[column], 25)\n",
        "        # 3rd quartile (75%)\n",
        "        Q3 = np.percentile(df[column],75)\n",
        "        # Interquartile range (IQR)\n",
        "        IQR = Q3 - Q1\n",
        "        # outlier step\n",
        "        outlier_step = 1.5 * IQR\n",
        "        # Determining a list of indices of outliers\n",
        "        outlier_list_column = df[(df[column] < Q1 - outlier_step) | (df[column] > Q3 + outlier_step )].index\n",
        "        # appending the list of outliers\n",
        "        outlier_list.extend(outlier_list_column)\n",
        "\n",
        "    # selecting observations containing more than x outliers\n",
        "    outlier_list = Counter(outlier_list)\n",
        "    multiple_outliers = list( k for k, v in outlier_list.items() if v > n )\n",
        "\n",
        "    # Calculate the number of records below and above lower and above bound value respectively\n",
        "    out1 = df[df[column] < Q1 - outlier_step]\n",
        "    out2 = df[df[column] > Q3 + outlier_step]\n",
        "\n",
        "    print('Total number of deleted outliers is:', out1.shape[0]+out2.shape[0])\n",
        "\n",
        "    return multiple_outliers"
      ],
      "metadata": {
        "id": "NJE9K6ceeM5E"
      },
      "execution_count": null,
      "outputs": []
    },
    {
      "cell_type": "code",
      "source": [
        "numeric_columns= ['amt', 'city_pop','is_fraud','age']\n"
      ],
      "metadata": {
        "id": "ReeqO7tlfQqO"
      },
      "execution_count": null,
      "outputs": []
    },
    {
      "cell_type": "code",
      "source": [
        "# detecting outliers\n",
        "Outliers_IQR = IQR_method(creditcard,1,numeric_columns)\n",
        "\n",
        "# dropping outliers\n",
        "df_out = creditcard.drop(Outliers_IQR, axis = 0).reset_index(drop=True)\n"
      ],
      "metadata": {
        "colab": {
          "base_uri": "https://localhost:8080/"
        },
        "id": "aNhDrS5lePPN",
        "outputId": "76ca9060-88d9-44c6-aa5c-9706bb9d6866"
      },
      "execution_count": null,
      "outputs": [
        {
          "output_type": "stream",
          "name": "stdout",
          "text": [
            "Total number of deleted outliers is: 549\n"
          ]
        }
      ]
    },
    {
      "cell_type": "code",
      "source": [
        "plt.figure(figsize=(8,5))\n",
        "ax = sns.countplot(x=\"is_fraud\", data=df_out,color=randomcolor())\n",
        "for p in ax.patches:\n",
        "     ax.annotate('{:.1f}'.format(p.get_height()), (p.get_x()+0.25, p.get_height()+0.01))\n",
        "plt.show()"
      ],
      "metadata": {
        "colab": {
          "base_uri": "https://localhost:8080/",
          "height": 474
        },
        "id": "7DOB92uQeVAg",
        "outputId": "a123a96a-f501-4597-b8d2-99acd3ee7d13"
      },
      "execution_count": null,
      "outputs": [
        {
          "output_type": "display_data",
          "data": {
            "text/plain": [
              "<Figure size 800x500 with 1 Axes>"
            ],
            "image/png": "[encoded data removed]"
          },
          "metadata": {}
        }
      ]
    },
    {
      "cell_type": "markdown",
      "source": [
        "Nos quedamos con sólo 310 transacciones fraudulentas en todo el dataframe!\n",
        "Se eliminaron casi todas las transacciones fraudulentas, por lo que para su estudio se debería volver la etapa anterior a la eliminación de los valores atípicos."
      ],
      "metadata": {
        "id": "Q7hrbJvGqTpk"
      }
    }
  ]
}